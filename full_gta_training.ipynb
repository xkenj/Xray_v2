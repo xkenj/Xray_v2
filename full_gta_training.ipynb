{
 "cells": [
  {
   "cell_type": "code",
   "execution_count": null,
   "metadata": {},
   "outputs": [],
   "source": [
    "import pandas as pd\n",
    "import numpy as np\n",
    "from glob import glob\n",
    "import random\n",
    "from random import shuffle\n",
    "import cv2\n",
    "import matplotlib.pyplot as plt\n",
    "from sklearn.model_selection import train_test_split\n",
    "from imgaug import augmenters as iaa\n",
    "from collections import Counter\n",
    "from tqdm import tqdm\n",
    "from sklearn.metrics import classification_report\n",
    "import time\n",
    "\n",
    "import keras\n",
    "from keras.applications import VGG16, DenseNet121, InceptionV3\n",
    "from keras.models import Sequential,Model\n",
    "from keras.optimizers import Adam\n",
    "from keras.layers import Convolution2D, MaxPooling2D, Dropout, Flatten, Dense\n",
    "from keras.layers import Conv2D, MaxPooling2D, GlobalAveragePooling2D, BatchNormalization\n",
    "from keras.layers import Dropout, Flatten, Dense, Activation\n",
    "from keras.callbacks import TensorBoard,ModelCheckpoint, LearningRateScheduler\n",
    "from keras.models import Sequential\n",
    "from keras import backend as K\n",
    "import tensorflow as tf\n",
    "from keras.layers.convolutional import Conv2D, MaxPooling2D, ZeroPadding2D\n",
    "\n",
    "\n",
    "import tflearn\n",
    "from tflearn.layers.conv import conv_2d, max_pool_2d,avg_pool_2d, conv_3d, max_pool_3d, avg_pool_3d\n",
    "from tflearn.layers.core import input_data, dropout, fully_connected\n",
    "from tflearn.layers.estimator import regression\n",
    "from tflearn.layers.normalization import local_response_normalization\n",
    "from tflearn.layers.merge_ops import merge"
   ]
  },
  {
   "cell_type": "markdown",
   "metadata": {},
   "source": [
    "## Concatenate to 1 NPY file"
   ]
  },
  {
   "cell_type": "code",
   "execution_count": 2,
   "metadata": {},
   "outputs": [],
   "source": [
    "# Concatenate to 1 NPY\n",
    "files = glob(\"object_detection/frames3/*\")\n",
    "shuffle(files)\n",
    "file_list = []\n",
    "for file in files:\n",
    "    npy_file = np.load(file)\n",
    "    shuffle(npy_file)\n",
    "    file_list.append(npy_file)\n",
    "full_data = np.concatenate(file_list)\n",
    "np.save('full_data', full_data)"
   ]
  },
  {
   "cell_type": "markdown",
   "metadata": {},
   "source": [
    "## Frequency Distribution Analysis"
   ]
  },
  {
   "cell_type": "code",
   "execution_count": 3,
   "metadata": {},
   "outputs": [],
   "source": [
    "def get_frequency(np_array, title=None):\n",
    "    np_copy = np.copy(np_array)\n",
    "    df = pd.DataFrame(np_copy, columns=['frames', 'label'])\n",
    "    df.label = df.label.astype(str)\n",
    "    count_labels = df.label.value_counts() #normalize=True\n",
    "    n_labels = count_labels.tolist()\n",
    "    labels = count_labels.index.tolist()\n",
    "    print(count_labels)\n",
    "    plt.figure(figsize=(10,5))\n",
    "    plt.bar(labels, n_labels)\n",
    "    plt.title(title)"
   ]
  },
  {
   "cell_type": "code",
   "execution_count": 4,
   "metadata": {},
   "outputs": [
    {
     "name": "stdout",
     "output_type": "stream",
     "text": [
      "[1, 0, 0, 0, 0]    3114\n",
      "[0, 0, 0, 0, 0]     262\n",
      "[0, 0, 0, 0, 1]     260\n",
      "[0, 0, 0, 1, 0]     254\n",
      "[0, 1, 0, 0, 0]      75\n",
      "[0, 0, 1, 0, 0]      35\n",
      "Name: label, dtype: int64\n"
     ]
    },
    {
     "data": {
      "image/png": "[encoded data removed]",
      "text/plain": [
       "<Figure size 720x360 with 1 Axes>"
      ]
     },
     "metadata": {
      "needs_background": "light"
     },
     "output_type": "display_data"
    }
   ],
   "source": [
    "HEIGHT = 60\n",
    "WIDTH = 107\n",
    "CHANNEL = 1\n",
    "data_analysis = np.load('full_data.npy')\n",
    "get_frequency(data_analysis, 'Distribution of Data A priori')"
   ]
  },
  {
   "cell_type": "markdown",
   "metadata": {},
   "source": [
    "### Dividing Forward"
   ]
  },
  {
   "cell_type": "code",
   "execution_count": 7,
   "metadata": {},
   "outputs": [
    {
     "data": {
      "text/plain": [
       "(1821, 2)"
      ]
     },
     "execution_count": 7,
     "metadata": {},
     "output_type": "execute_result"
    }
   ],
   "source": [
    "# Divide FWD by 2 \n",
    "def dividing_data(initial_list, dividing_factor=1):\n",
    "    full_data_copy = np.copy(initial_list)\n",
    "    df_copy = pd.DataFrame(full_data_copy, columns=['frames', 'label'])\n",
    "    df_copy.label = df_copy.label.astype(str)\n",
    "\n",
    "    fwd_indexes = np.where(full_data_copy[:,1]==\"[1, 0, 0, 0, 0]\")[0]\n",
    "    n_fwd = fwd_indexes.shape[0]\n",
    "    rdm_fwd = np.random.choice(a=fwd_indexes, size=int(n_fwd*dividing_factor), replace=False)\n",
    "\n",
    "    processed_list = np.delete(initial_list, rdm_fwd, axis=0)\n",
    "    return processed_list\n",
    "\n",
    "data_processed= dividing_data(data_analysis, 0.7)\n",
    "# print(np.asarray(data_processed).shape)\n",
    "data_processed.shape"
   ]
  },
  {
   "cell_type": "markdown",
   "metadata": {},
   "source": [
    "### Delete Verification"
   ]
  },
  {
   "cell_type": "code",
   "execution_count": 8,
   "metadata": {},
   "outputs": [
    {
     "name": "stdout",
     "output_type": "stream",
     "text": [
      "[1, 0, 0, 0, 0]    935\n",
      "[0, 0, 0, 0, 0]    262\n",
      "[0, 0, 0, 0, 1]    260\n",
      "[0, 0, 0, 1, 0]    254\n",
      "[0, 1, 0, 0, 0]     75\n",
      "[0, 0, 1, 0, 0]     35\n",
      "Name: label, dtype: int64\n"
     ]
    },
    {
     "data": {
      "image/png": "[encoded data removed]",
      "text/plain": [
       "<Figure size 720x360 with 1 Axes>"
      ]
     },
     "metadata": {
      "needs_background": "light"
     },
     "output_type": "display_data"
    }
   ],
   "source": [
    "get_frequency(data_processed, 'Distribution after dividing')"
   ]
  },
  {
   "cell_type": "markdown",
   "metadata": {},
   "source": [
    "## Train/ Validation/ Test Split"
   ]
  },
  {
   "cell_type": "code",
   "execution_count": 9,
   "metadata": {},
   "outputs": [
    {
     "name": "stdout",
     "output_type": "stream",
     "text": [
      "[1, 0, 0, 0, 0]    748\n",
      "[0, 0, 0, 0, 0]    209\n",
      "[0, 0, 0, 0, 1]    208\n",
      "[0, 0, 0, 1, 0]    203\n",
      "[0, 1, 0, 0, 0]     60\n",
      "[0, 0, 1, 0, 0]     28\n",
      "Name: label, dtype: int64\n",
      "[1, 0, 0, 0, 0]    93\n",
      "[0, 0, 0, 0, 0]    26\n",
      "[0, 0, 0, 0, 1]    26\n",
      "[0, 0, 0, 1, 0]    25\n",
      "[0, 1, 0, 0, 0]     8\n",
      "[0, 0, 1, 0, 0]     4\n",
      "Name: label, dtype: int64\n",
      "[1, 0, 0, 0, 0]    94\n",
      "[0, 0, 0, 0, 0]    27\n",
      "[0, 0, 0, 0, 1]    26\n",
      "[0, 0, 0, 1, 0]    26\n",
      "[0, 1, 0, 0, 0]     7\n",
      "[0, 0, 1, 0, 0]     3\n",
      "Name: label, dtype: int64\n"
     ]
    },
    {
     "data": {
      "image/png": "[encoded data removed]",
      "text/plain": [
       "<Figure size 720x360 with 1 Axes>"
      ]
     },
     "metadata": {
      "needs_background": "light"
     },
     "output_type": "display_data"
    },
    {
     "data": {
      "image/png": "[encoded data removed]",
      "text/plain": [
       "<Figure size 720x360 with 1 Axes>"
      ]
     },
     "metadata": {
      "needs_background": "light"
     },
     "output_type": "display_data"
    },
    {
     "data": {
      "image/png": "[encoded data removed]",
      "text/plain": [
       "<Figure size 720x360 with 1 Axes>"
      ]
     },
     "metadata": {
      "needs_background": "light"
     },
     "output_type": "display_data"
    }
   ],
   "source": [
    "# Train/ Val / Test\n",
    "X = data_processed[:,0]\n",
    "y = data_processed[:,1]\n",
    "\n",
    "X_train, X_val_test, y_train, y_val_test = train_test_split(X, y, test_size=0.2, shuffle=True, stratify=y)\n",
    "X_val, X_test, y_val, y_test = train_test_split(X_val_test, y_val_test, test_size=0.5, shuffle=True, stratify=y_val_test)\n",
    "\n",
    "train = np.concatenate([X_train.reshape(-1,1), y_train.reshape(-1,1)], axis=1)\n",
    "validation = np.concatenate([X_val.reshape(-1,1), y_val.reshape(-1,1)], axis=1)\n",
    "test = np.concatenate([X_test.reshape(-1,1), y_test.reshape(-1,1)], axis=1)\n",
    "\n",
    "get_frequency(train, 'Train')\n",
    "get_frequency(validation, 'Validation')\n",
    "get_frequency(test, 'Test')"
   ]
  },
  {
   "cell_type": "markdown",
   "metadata": {},
   "source": [
    "### Reshape for Fitting"
   ]
  },
  {
   "cell_type": "code",
   "execution_count": 10,
   "metadata": {},
   "outputs": [],
   "source": [
    "X_train = np.array([element for element in X_train]).reshape(-1, HEIGHT, WIDTH,  1)\n",
    "X_val = np.array([element for element in X_val]).reshape(-1, HEIGHT, WIDTH, 1)\n",
    "X_test = np.array([element for element in X_test]).reshape(-1, HEIGHT, WIDTH, 1)\n",
    "\n",
    "\n",
    "X_train_rgb = np.repeat(X_train[np.newaxis], 3, -1)[0]\n",
    "X_val_rgb = np.repeat(X_val[np.newaxis], 3, -1)[0]\n",
    "X_test_rgb = np.repeat(X_test[np.newaxis], 3, -1)[0]"
   ]
  },
  {
   "cell_type": "code",
   "execution_count": 11,
   "metadata": {},
   "outputs": [
    {
     "data": {
      "text/plain": [
       "<matplotlib.image.AxesImage at 0x22c4ec456d8>"
      ]
     },
     "execution_count": 11,
     "metadata": {},
     "output_type": "execute_result"
    },
    {
     "data": {
      "image/png": "[encoded data removed]",
      "text/plain": [
       "<Figure size 432x288 with 1 Axes>"
      ]
     },
     "metadata": {
      "needs_background": "light"
     },
     "output_type": "display_data"
    }
   ],
   "source": [
    "plt.imshow(X_train[150].reshape(HEIGHT, WIDTH))"
   ]
  },
  {
   "cell_type": "code",
   "execution_count": 113,
   "metadata": {},
   "outputs": [
    {
     "data": {
      "text/plain": [
       "<matplotlib.image.AxesImage at 0x22d9a5233c8>"
      ]
     },
     "execution_count": 113,
     "metadata": {},
     "output_type": "execute_result"
    },
    {
     "data": {
      "image/png": "[encoded data removed]",
      "text/plain": [
       "<Figure size 432x288 with 1 Axes>"
      ]
     },
     "metadata": {
      "needs_background": "light"
     },
     "output_type": "display_data"
    }
   ],
   "source": [
    "plt.imshow(X_train[30].reshape(HEIGHT, WIDTH))"
   ]
  },
  {
   "cell_type": "code",
   "execution_count": 112,
   "metadata": {},
   "outputs": [
    {
     "data": {
      "text/plain": [
       "<matplotlib.image.AxesImage at 0x22d9a49bc88>"
      ]
     },
     "execution_count": 112,
     "metadata": {},
     "output_type": "execute_result"
    },
    {
     "data": {
      "image/png": "[encoded data removed]",
      "text/plain": [
       "<Figure size 432x288 with 1 Axes>"
      ]
     },
     "metadata": {
      "needs_background": "light"
     },
     "output_type": "display_data"
    }
   ],
   "source": [
    "plt.imshow(X_train_rgb[30])"
   ]
  },
  {
   "cell_type": "code",
   "execution_count": 110,
   "metadata": {},
   "outputs": [
    {
     "data": {
      "image/png": "[encoded data removed]",
      "text/plain": [
       "<Figure size 432x288 with 1 Axes>"
      ]
     },
     "metadata": {
      "needs_background": "light"
     },
     "output_type": "display_data"
    }
   ],
   "source": [
    "img = X_train_rgb[0]\n",
    "# img = cv2.cvtColor(img, cv2.COLOR_BGR2RGB)\n",
    "def pan(image):\n",
    "#     image = image.reshape(HEIGHT, WIDTH)\n",
    "    aug = iaa.ContrastNormalization((5, 8))\n",
    "    image = aug.augment_image(image)\n",
    "    plt.imshow(image)\n",
    "pan(img) "
   ]
  },
  {
   "cell_type": "code",
   "execution_count": 111,
   "metadata": {},
   "outputs": [
    {
     "data": {
      "image/png": "[encoded data removed]",
      "text/plain": [
       "<Figure size 432x288 with 1 Axes>"
      ]
     },
     "metadata": {
      "needs_background": "light"
     },
     "output_type": "display_data"
    }
   ],
   "source": [
    "img = X_train[0]\n",
    "pan(img.reshape(HEIGHT, WIDTH))"
   ]
  },
  {
   "cell_type": "markdown",
   "metadata": {},
   "source": [
    "# Data Augmentation 1D"
   ]
  },
  {
   "cell_type": "code",
   "execution_count": 27,
   "metadata": {},
   "outputs": [],
   "source": [
    "def contrast_norm(image):\n",
    "    image = image.reshape(HEIGHT, WIDTH)\n",
    "    random_constrat = round(np.random.uniform(5,8),2)\n",
    "    contrast = iaa.ContrastNormalization((random_constrat, random_constrat))\n",
    "    image = contrast.augment_image(image)\n",
    "    return np.expand_dims(image, -1)\n",
    "\n",
    "def erosion_image(image):\n",
    "    image = image.reshape(HEIGHT, WIDTH)\n",
    "    shift = np.random.randint(5)\n",
    "    kernel = np.ones((shift,shift),np.uint8)\n",
    "    image = cv2.erode(image,kernel,iterations = 1)\n",
    "    return np.expand_dims(image, -1)\n",
    "\n",
    "def flip_img(image, label):\n",
    "    image = image.reshape(HEIGHT, WIDTH)\n",
    "    RIGHT = \"[0, 0, 1, 0, 0]\"\n",
    "    LEFT = \"[0, 1, 0, 0, 0]\"\n",
    "    FWD_RIGHT = \"[0, 0, 0, 0, 1]\"\n",
    "    FWD_LEFT = \"[0, 0, 0, 1, 0]\"\n",
    "    \n",
    "    if label == RIGHT:\n",
    "        label_aug = LEFT\n",
    "    elif label == LEFT:\n",
    "        label_aug = RIGHT\n",
    "    elif label == FWD_RIGHT:\n",
    "        label_aug = FWD_LEFT\n",
    "    elif label == FWD_LEFT:\n",
    "        label_aug = FWD_RIGHT\n",
    "    else:\n",
    "        label_aug = label\n",
    "    return np.expand_dims(np.fliplr(image), -1), label_aug \n",
    "\n",
    "def zoom(image):\n",
    "    image = image.reshape(HEIGHT, WIDTH)\n",
    "    random_scale = round(np.random.uniform(1,1.5),2)\n",
    "    zoom = iaa.Affine(scale=(random_scale, random_scale))\n",
    "    image = zoom.augment_image(image)\n",
    "    return np.expand_dims(image, -1)\n",
    "\n",
    "def pan(image):\n",
    "    image = image.reshape(HEIGHT, WIDTH)\n",
    "    pan = iaa.Affine(translate_percent= {\"x\" : (-0.1, 0.1), \"y\": (-0.1, 0.1)})\n",
    "    image = pan.augment_image(image)\n",
    "    return np.expand_dims(image, -1)\n",
    "\n",
    "def gaussian_noise(image):\n",
    "    image = image.reshape(HEIGHT, WIDTH)\n",
    "    noise = iaa.AdditiveGaussianNoise(scale=0.05*255)\n",
    "    image = noise.augment_image(image)\n",
    "    return np.expand_dims(image, -1)\n",
    "\n",
    "def edge_detector(image):\n",
    "    image = image.reshape(HEIGHT, WIDTH)\n",
    "    random_edges = round(np.random.uniform(0,1),2)\n",
    "    edge = iaa.EdgeDetect(alpha=(random_edges, random_edges))\n",
    "    image = edge.augment_image(image)\n",
    "    return np.expand_dims(image, -1)"
   ]
  },
  {
   "cell_type": "code",
   "execution_count": 28,
   "metadata": {},
   "outputs": [],
   "source": [
    "def random_augmentation(frame, label):\n",
    "    \n",
    "    frame = frame/255.0\n",
    "    batch_frame_aug, batch_label_aug = [], []\n",
    "    batch_frame_aug.append(frame)\n",
    "    batch_label_aug.append(label)\n",
    "#     print(frame.shape)\n",
    "    if np.random.rand() <= 0.5:\n",
    "#         print('CONTRAST')\n",
    "        frame_constrast = contrast_norm(frame)\n",
    "        batch_frame_aug.append(frame_constrast)\n",
    "        batch_label_aug.append(label)\n",
    "    if np.random.rand() <= 0.5:\n",
    "#         print(\"ERO\")\n",
    "        frame_ero = erosion_image(frame)\n",
    "        batch_frame_aug.append(frame_ero)\n",
    "        batch_label_aug.append(label)\n",
    "    if np.random.rand() <= 0.5:\n",
    "#         print(\"FLIP\")\n",
    "        frame_flip, label_flip = flip_img(frame, label)\n",
    "        batch_frame_aug.append(frame_flip)\n",
    "        batch_label_aug.append(label_flip)\n",
    "    if np.random.rand() <= 0.5:\n",
    "#         print('ZOOM')\n",
    "        frame_zoom = zoom(frame)\n",
    "        batch_frame_aug.append(frame_zoom)\n",
    "        batch_label_aug.append(label)\n",
    "    if np.random.rand() <= 0.5:\n",
    "#         print(\"PAN\")\n",
    "        frame_pan = pan(frame)\n",
    "        batch_frame_aug.append(frame_pan)\n",
    "        batch_label_aug.append(label)\n",
    "    if np.random.rand() <= 0.5:\n",
    "#         print(\"NOISE\")\n",
    "        frame_noise = gaussian_noise(frame)\n",
    "        batch_frame_aug.append(frame_noise)\n",
    "        batch_label_aug.append(label)\n",
    "    if np.random.rand() <= 0.5:\n",
    "#         print(\"EDGE\")\n",
    "        frame_edge = edge_detector(frame)\n",
    "        batch_frame_aug.append(frame_edge)\n",
    "        batch_label_aug.append(label)\n",
    "\n",
    "    return batch_frame_aug, batch_label_aug"
   ]
  },
  {
   "cell_type": "markdown",
   "metadata": {},
   "source": [
    "# Create Generator"
   ]
  },
  {
   "cell_type": "code",
   "execution_count": 29,
   "metadata": {},
   "outputs": [],
   "source": [
    "def my_generator(frames, labels, batch_size, data_augmented):\n",
    "\n",
    "        FWD = \"[1, 0, 0, 0, 0]\"\n",
    "        while True:\n",
    "            batch_frames = []\n",
    "            batch_labels = []\n",
    "\n",
    "            random_index = np.random.choice(a = frames.shape[0], size=batch_size)\n",
    "\n",
    "            for idx in random_index:\n",
    "#                 frames[idx] = np.resize(frames[idx], (66,200) )\n",
    "                if data_augmented and str(labels[idx]) != FWD:\n",
    "#                     print('AUGMENTED')\n",
    "                    frame, label = random_augmentation(frames[idx], labels[idx])\n",
    "\n",
    "                    batch_frames += frame\n",
    "                    batch_labels += label\n",
    "\n",
    "                else:\n",
    "#                     print(\"ELSE\")\n",
    "                    frame, label = frames[idx]/255.0, labels[idx]\n",
    "                    \n",
    "                    batch_frames += [frame]\n",
    "                    batch_labels += [label]\n",
    "\n",
    "            yield (np.asarray(batch_frames), np.asarray(batch_labels))"
   ]
  },
  {
   "cell_type": "code",
   "execution_count": 30,
   "metadata": {},
   "outputs": [
    {
     "name": "stdout",
     "output_type": "stream",
     "text": [
      "(5, 60, 107, 1)\n",
      "[[1 0 0 0 0]\n",
      " [1 0 0 0 0]\n",
      " [0 0 0 0 1]\n",
      " [0 0 0 0 1]\n",
      " [0 0 0 0 1]]\n"
     ]
    }
   ],
   "source": [
    "x_train_gen, y_train_gen = next(my_generator(X_train, y_train, 3, True))\n",
    "x_valid_gen, y_valid_gen = next(my_generator(X_val, y_val, 1, False))\n",
    "x_test_gen, y_test_gen = next(my_generator(X_test, y_test, 1, False))\n",
    "print(x_train_gen.shape)\n",
    "print(y_train_gen)"
   ]
  },
  {
   "cell_type": "markdown",
   "metadata": {},
   "source": [
    "# Fit Generator"
   ]
  },
  {
   "cell_type": "code",
   "execution_count": 104,
   "metadata": {},
   "outputs": [],
   "source": [
    "# # Define our custom loss function\n",
    "# def focal_loss(y_true, y_pred):\n",
    "#     print(y_true)\n",
    "#     print(y_pred)\n",
    "#     gamma = 2\n",
    "#     alpha = 0.25\n",
    "#     pt_1 = tf.where(tf.equal(y_true, [1,0,0,0,0]), y_pred, tf.ones_like(y_pred))\n",
    "#     pt_0 = tf.where(tf.equal(y_true, [0,0,0,0,0]), y_pred, tf.zeros_like(y_pred))\n",
    "#     print(pt_0)\n",
    "#     print(pt_1)\n",
    "#     return -K.sum(0.5*K.pow(2, gamma))\n",
    "# #     return -K.sum(alpha * K.pow(1 - pt_1, gamma) * K.log(pt_1))-K.sum((1-alpha) * K.pow( pt_0, gamma) * K.log(1 - pt_0))\n",
    "\n",
    "# y_true = [1,0,0,0,0]\n",
    "# y_pred = [0,0,0,0,0]\n",
    "\n",
    "# focal_loss(y_true, y_pred)\n",
    "# # # Compile our model\n",
    "# # adam = Adam(lr=0.0001)\n",
    "# # model.compile(loss=[focal_loss], metrics=[\"accuracy\"], optimizer=adam)"
   ]
  },
  {
   "cell_type": "markdown",
   "metadata": {},
   "source": [
    "## Hand Model"
   ]
  },
  {
   "cell_type": "code",
   "execution_count": 58,
   "metadata": {},
   "outputs": [
    {
     "name": "stdout",
     "output_type": "stream",
     "text": [
      "_________________________________________________________________\n",
      "Layer (type)                 Output Shape              Param #   \n",
      "=================================================================\n",
      "conv2d_36 (Conv2D)           (None, 58, 105, 64)       640       \n",
      "_________________________________________________________________\n",
      "activation_46 (Activation)   (None, 58, 105, 64)       0         \n",
      "_________________________________________________________________\n",
      "max_pooling2d_25 (MaxPooling (None, 29, 52, 64)        0         \n",
      "_________________________________________________________________\n",
      "conv2d_37 (Conv2D)           (None, 27, 50, 64)        36928     \n",
      "_________________________________________________________________\n",
      "activation_47 (Activation)   (None, 27, 50, 64)        0         \n",
      "_________________________________________________________________\n",
      "max_pooling2d_26 (MaxPooling (None, 13, 25, 64)        0         \n",
      "_________________________________________________________________\n",
      "flatten_6 (Flatten)          (None, 20800)             0         \n",
      "_________________________________________________________________\n",
      "dense_16 (Dense)             (None, 256)               5325056   \n",
      "_________________________________________________________________\n",
      "batch_normalization_42 (Batc (None, 256)               1024      \n",
      "_________________________________________________________________\n",
      "activation_48 (Activation)   (None, 256)               0         \n",
      "_________________________________________________________________\n",
      "dropout_12 (Dropout)         (None, 256)               0         \n",
      "_________________________________________________________________\n",
      "dense_17 (Dense)             (None, 50)                12850     \n",
      "_________________________________________________________________\n",
      "batch_normalization_43 (Batc (None, 50)                200       \n",
      "_________________________________________________________________\n",
      "activation_49 (Activation)   (None, 50)                0         \n",
      "_________________________________________________________________\n",
      "dropout_13 (Dropout)         (None, 50)                0         \n",
      "_________________________________________________________________\n",
      "dense_18 (Dense)             (None, 5)                 255       \n",
      "_________________________________________________________________\n",
      "batch_normalization_44 (Batc (None, 5)                 20        \n",
      "_________________________________________________________________\n",
      "activation_50 (Activation)   (None, 5)                 0         \n",
      "=================================================================\n",
      "Total params: 5,376,973\n",
      "Trainable params: 5,376,351\n",
      "Non-trainable params: 622\n",
      "_________________________________________________________________\n"
     ]
    }
   ],
   "source": [
    "model = Sequential()\n",
    "model.add( Conv2D(64, (3, 3), input_shape = (HEIGHT, WIDTH, CHANNEL)) )\n",
    "model.add(Activation('relu'))\n",
    "model.add(MaxPooling2D(pool_size=(2, 2)))\n",
    "\n",
    "model.add(Conv2D(64, (3, 3)))\n",
    "model.add(Activation('relu'))\n",
    "model.add(MaxPooling2D(pool_size=(2, 2)))\n",
    "\n",
    "model.add(Flatten())\n",
    "\n",
    "model.add(Dense(256))\n",
    "model.add(BatchNormalization())\n",
    "model.add(Activation('relu'))\n",
    "model.add(Dropout(0.5))\n",
    "\n",
    "model.add(Dense(50))\n",
    "model.add(BatchNormalization())\n",
    "model.add(Activation('relu'))\n",
    "model.add(Dropout(0.5))\n",
    "\n",
    "model.add(Dense(5))\n",
    "model.add(BatchNormalization())\n",
    "model.add(Activation('softmax'))\n",
    "\n",
    "model.compile(loss='categorical_crossentropy', optimizer = 'adam', metrics=['accuracy'])\n",
    "\n",
    "model.summary()"
   ]
  },
  {
   "cell_type": "code",
   "execution_count": 59,
   "metadata": {},
   "outputs": [],
   "source": [
    "BATCH_SIZE = 16\n",
    "N_TRAIN = X_train.shape[0]\n",
    "N_VAL = X_val.shape[0]\n",
    "N_TEST = X_test.shape[0]"
   ]
  },
  {
   "cell_type": "code",
   "execution_count": 156,
   "metadata": {},
   "outputs": [
    {
     "name": "stdout",
     "output_type": "stream",
     "text": [
      "Epoch 1/2\n",
      "89/89 [==============================] - ETA: 2:29 - loss: 1.7183 - acc: 0.205 - ETA: 1:43 - loss: 1.7568 - acc: 0.177 - ETA: 1:28 - loss: 1.6532 - acc: 0.232 - ETA: 1:23 - loss: 1.5568 - acc: 0.216 - ETA: 1:19 - loss: 1.5132 - acc: 0.205 - ETA: 1:14 - loss: 1.4055 - acc: 0.185 - ETA: 1:10 - loss: 1.4115 - acc: 0.179 - ETA: 1:11 - loss: 1.4245 - acc: 0.189 - ETA: 1:10 - loss: 1.4626 - acc: 0.191 - ETA: 1:08 - loss: 1.4380 - acc: 0.192 - ETA: 1:07 - loss: 1.4372 - acc: 0.193 - ETA: 1:05 - loss: 1.4092 - acc: 0.186 - ETA: 1:04 - loss: 1.3827 - acc: 0.195 - ETA: 1:03 - loss: 1.4039 - acc: 0.202 - ETA: 1:02 - loss: 1.4108 - acc: 0.207 - ETA: 1:01 - loss: 1.4102 - acc: 0.211 - ETA: 1:01 - loss: 1.4116 - acc: 0.219 - ETA: 1:00 - loss: 1.4305 - acc: 0.218 - ETA: 1:00 - loss: 1.4240 - acc: 0.219 - ETA: 58s - loss: 1.4304 - acc: 0.216 - ETA: 57s - loss: 1.4132 - acc: 0.22 - ETA: 55s - loss: 1.4232 - acc: 0.21 - ETA: 54s - loss: 1.4397 - acc: 0.21 - ETA: 53s - loss: 1.4480 - acc: 0.21 - ETA: 52s - loss: 1.4489 - acc: 0.21 - ETA: 50s - loss: 1.4508 - acc: 0.21 - ETA: 49s - loss: 1.4529 - acc: 0.21 - ETA: 50s - loss: 1.4502 - acc: 0.21 - ETA: 49s - loss: 1.4621 - acc: 0.21 - ETA: 49s - loss: 1.4708 - acc: 0.22 - ETA: 48s - loss: 1.4738 - acc: 0.22 - ETA: 47s - loss: 1.4826 - acc: 0.22 - ETA: 47s - loss: 1.4907 - acc: 0.21 - ETA: 45s - loss: 1.4797 - acc: 0.21 - ETA: 44s - loss: 1.4804 - acc: 0.22 - ETA: 44s - loss: 1.4698 - acc: 0.22 - ETA: 43s - loss: 1.4673 - acc: 0.22 - ETA: 42s - loss: 1.4782 - acc: 0.22 - ETA: 42s - loss: 1.4781 - acc: 0.22 - ETA: 41s - loss: 1.4783 - acc: 0.22 - ETA: 40s - loss: 1.4729 - acc: 0.22 - ETA: 39s - loss: 1.4729 - acc: 0.22 - ETA: 39s - loss: 1.4575 - acc: 0.22 - ETA: 38s - loss: 1.4487 - acc: 0.23 - ETA: 37s - loss: 1.4472 - acc: 0.22 - ETA: 36s - loss: 1.4484 - acc: 0.23 - ETA: 36s - loss: 1.4460 - acc: 0.22 - ETA: 35s - loss: 1.4456 - acc: 0.23 - ETA: 34s - loss: 1.4455 - acc: 0.23 - ETA: 33s - loss: 1.4410 - acc: 0.23 - ETA: 32s - loss: 1.4445 - acc: 0.23 - ETA: 32s - loss: 1.4436 - acc: 0.23 - ETA: 31s - loss: 1.4479 - acc: 0.23 - ETA: 30s - loss: 1.4482 - acc: 0.23 - ETA: 29s - loss: 1.4532 - acc: 0.23 - ETA: 28s - loss: 1.4421 - acc: 0.23 - ETA: 28s - loss: 1.4394 - acc: 0.23 - ETA: 27s - loss: 1.4410 - acc: 0.23 - ETA: 26s - loss: 1.4420 - acc: 0.23 - ETA: 25s - loss: 1.4406 - acc: 0.23 - ETA: 24s - loss: 1.4422 - acc: 0.23 - ETA: 24s - loss: 1.4443 - acc: 0.23 - ETA: 23s - loss: 1.4432 - acc: 0.23 - ETA: 22s - loss: 1.4406 - acc: 0.23 - ETA: 21s - loss: 1.4440 - acc: 0.23 - ETA: 20s - loss: 1.4478 - acc: 0.23 - ETA: 19s - loss: 1.4445 - acc: 0.23 - ETA: 18s - loss: 1.4483 - acc: 0.23 - ETA: 17s - loss: 1.4516 - acc: 0.24 - ETA: 16s - loss: 1.4519 - acc: 0.23 - ETA: 16s - loss: 1.4487 - acc: 0.24 - ETA: 15s - loss: 1.4487 - acc: 0.23 - ETA: 14s - loss: 1.4476 - acc: 0.23 - ETA: 13s - loss: 1.4471 - acc: 0.23 - ETA: 12s - loss: 1.4416 - acc: 0.23 - ETA: 11s - loss: 1.4448 - acc: 0.23 - ETA: 10s - loss: 1.4426 - acc: 0.23 - ETA: 9s - loss: 1.4461 - acc: 0.2376 - ETA: 8s - loss: 1.4435 - acc: 0.237 - ETA: 8s - loss: 1.4409 - acc: 0.238 - ETA: 7s - loss: 1.4416 - acc: 0.239 - ETA: 6s - loss: 1.4389 - acc: 0.239 - ETA: 5s - loss: 1.4418 - acc: 0.239 - ETA: 4s - loss: 1.4349 - acc: 0.242 - ETA: 3s - loss: 1.4313 - acc: 0.243 - ETA: 2s - loss: 1.4283 - acc: 0.244 - ETA: 1s - loss: 1.4232 - acc: 0.245 - ETA: 0s - loss: 1.4238 - acc: 0.245 - 83s 936ms/step - loss: 1.4220 - acc: 0.2476 - val_loss: 1.3759 - val_acc: 0.1932\n",
      "\n",
      "Epoch 00001: val_loss improved from inf to 1.37588, saving model to drving_gta_hand.hdf5\n",
      "Epoch 2/2\n",
      "89/89 [==============================] - ETA: 1:46 - loss: 1.2977 - acc: 0.193 - ETA: 1:25 - loss: 1.4216 - acc: 0.204 - ETA: 1:16 - loss: 1.5141 - acc: 0.263 - ETA: 1:15 - loss: 1.5088 - acc: 0.245 - ETA: 1:16 - loss: 1.3593 - acc: 0.249 - ETA: 1:15 - loss: 1.3065 - acc: 0.262 - ETA: 1:11 - loss: 1.2637 - acc: 0.283 - ETA: 1:10 - loss: 1.2639 - acc: 0.292 - ETA: 1:10 - loss: 1.2886 - acc: 0.295 - ETA: 1:09 - loss: 1.2347 - acc: 0.296 - ETA: 1:10 - loss: 1.2542 - acc: 0.297 - ETA: 1:09 - loss: 1.2162 - acc: 0.301 - ETA: 1:08 - loss: 1.2457 - acc: 0.297 - ETA: 1:08 - loss: 1.2427 - acc: 0.305 - ETA: 1:10 - loss: 1.2310 - acc: 0.307 - ETA: 1:09 - loss: 1.2472 - acc: 0.306 - ETA: 1:08 - loss: 1.2602 - acc: 0.310 - ETA: 1:08 - loss: 1.2622 - acc: 0.317 - ETA: 1:06 - loss: 1.2895 - acc: 0.311 - ETA: 1:04 - loss: 1.3021 - acc: 0.318 - ETA: 1:03 - loss: 1.2934 - acc: 0.317 - ETA: 1:02 - loss: 1.2972 - acc: 0.314 - ETA: 1:01 - loss: 1.2970 - acc: 0.315 - ETA: 1:00 - loss: 1.3040 - acc: 0.314 - ETA: 59s - loss: 1.3150 - acc: 0.312 - ETA: 59s - loss: 1.3243 - acc: 0.31 - ETA: 58s - loss: 1.3279 - acc: 0.31 - ETA: 57s - loss: 1.3224 - acc: 0.30 - ETA: 57s - loss: 1.3142 - acc: 0.30 - ETA: 56s - loss: 1.3167 - acc: 0.30 - ETA: 55s - loss: 1.3193 - acc: 0.30 - ETA: 55s - loss: 1.3200 - acc: 0.30 - ETA: 54s - loss: 1.3238 - acc: 0.30 - ETA: 53s - loss: 1.3203 - acc: 0.30 - ETA: 52s - loss: 1.3149 - acc: 0.30 - ETA: 51s - loss: 1.3121 - acc: 0.30 - ETA: 49s - loss: 1.3005 - acc: 0.30 - ETA: 48s - loss: 1.2974 - acc: 0.31 - ETA: 48s - loss: 1.3004 - acc: 0.30 - ETA: 47s - loss: 1.2889 - acc: 0.30 - ETA: 46s - loss: 1.2877 - acc: 0.30 - ETA: 46s - loss: 1.2846 - acc: 0.30 - ETA: 46s - loss: 1.2790 - acc: 0.30 - ETA: 45s - loss: 1.2835 - acc: 0.30 - ETA: 45s - loss: 1.2829 - acc: 0.30 - ETA: 44s - loss: 1.2796 - acc: 0.30 - ETA: 43s - loss: 1.2761 - acc: 0.30 - ETA: 42s - loss: 1.2819 - acc: 0.30 - ETA: 41s - loss: 1.2834 - acc: 0.30 - ETA: 40s - loss: 1.2887 - acc: 0.30 - ETA: 39s - loss: 1.2902 - acc: 0.30 - ETA: 39s - loss: 1.2902 - acc: 0.30 - ETA: 38s - loss: 1.2953 - acc: 0.30 - ETA: 37s - loss: 1.2831 - acc: 0.31 - ETA: 37s - loss: 1.2885 - acc: 0.31 - ETA: 36s - loss: 1.2922 - acc: 0.31 - ETA: 35s - loss: 1.2927 - acc: 0.31 - ETA: 34s - loss: 1.2983 - acc: 0.31 - ETA: 32s - loss: 1.2905 - acc: 0.31 - ETA: 32s - loss: 1.2906 - acc: 0.31 - ETA: 31s - loss: 1.2914 - acc: 0.31 - ETA: 30s - loss: 1.2950 - acc: 0.31 - ETA: 29s - loss: 1.2954 - acc: 0.31 - ETA: 28s - loss: 1.2951 - acc: 0.31 - ETA: 27s - loss: 1.3012 - acc: 0.31 - ETA: 26s - loss: 1.3024 - acc: 0.31 - ETA: 25s - loss: 1.2991 - acc: 0.31 - ETA: 24s - loss: 1.2961 - acc: 0.31 - ETA: 22s - loss: 1.2931 - acc: 0.31 - ETA: 21s - loss: 1.2915 - acc: 0.31 - ETA: 20s - loss: 1.2877 - acc: 0.32 - ETA: 19s - loss: 1.2836 - acc: 0.32 - ETA: 18s - loss: 1.2814 - acc: 0.32 - ETA: 17s - loss: 1.2776 - acc: 0.32 - ETA: 16s - loss: 1.2734 - acc: 0.32 - ETA: 15s - loss: 1.2770 - acc: 0.32 - ETA: 14s - loss: 1.2790 - acc: 0.32 - ETA: 12s - loss: 1.2793 - acc: 0.32 - ETA: 11s - loss: 1.2844 - acc: 0.32 - ETA: 10s - loss: 1.2799 - acc: 0.32 - ETA: 9s - loss: 1.2793 - acc: 0.3248 - ETA: 8s - loss: 1.2771 - acc: 0.326 - ETA: 7s - loss: 1.2743 - acc: 0.326 - ETA: 5s - loss: 1.2775 - acc: 0.326 - ETA: 4s - loss: 1.2708 - acc: 0.326 - ETA: 3s - loss: 1.2704 - acc: 0.329 - ETA: 2s - loss: 1.2709 - acc: 0.330 - ETA: 1s - loss: 1.2704 - acc: 0.331 - 110s 1s/step - loss: 1.2724 - acc: 0.3302 - val_loss: 1.3792 - val_acc: 0.2330\n",
      "\n",
      "Epoch 00002: val_loss did not improve from 1.37588\n"
     ]
    }
   ],
   "source": [
    "checkpointer = ModelCheckpoint(filepath='drving_gta_hand.hdf5', verbose=1, save_best_only=True)\n",
    "\n",
    "# tensorboard = TensorBoard(log_dir='./logs', histogram_freq=0, write_graph=True, write_images=False)\n",
    "NAME = 'drving_gta_hand_60x107_{}'.format(int(time.time()))\n",
    "tensorboard = TensorBoard(log_dir='logs/{}'.format(NAME))\n",
    "\n",
    "def lr_schedule(epoch):\n",
    "    \"\"\"Change the learning rate \"\"\"\n",
    "    lrate = 0.001\n",
    "    if epoch > 10:\n",
    "        lrate = 0.0005\n",
    "    if epoch > 50:\n",
    "        lrate = 0.0003\n",
    "    return lrate\n",
    "\n",
    "# tensorboard --logdir=logs/ --host localhost --port 8088\n",
    "\n",
    "History = model.fit_generator(my_generator(X_train, y_train, BATCH_SIZE, True),\n",
    "                                  steps_per_epoch=N_TRAIN // BATCH_SIZE, \n",
    "                                  epochs=2,\n",
    "                                  validation_data=my_generator(X_val, y_val, BATCH_SIZE, False),\n",
    "                                  validation_steps=N_VAL // BATCH_SIZE,\n",
    "                                  verbose=1,\n",
    "                                  callbacks=[tensorboard, LearningRateScheduler(lr_schedule), checkpointer],\n",
    "                                  shuffle = 1)\n",
    "\n",
    "# # Saving\n",
    "# model.save('drving_gta_hand.h5')"
   ]
  },
  {
   "cell_type": "code",
   "execution_count": 157,
   "metadata": {},
   "outputs": [
    {
     "data": {
      "image/png": "[encoded data removed]",
      "text/plain": [
       "<Figure size 720x720 with 2 Axes>"
      ]
     },
     "metadata": {
      "needs_background": "light"
     },
     "output_type": "display_data"
    }
   ],
   "source": [
    "plt.figure(1, figsize=(10,10))  \n",
    "\n",
    "# summarize history for accuracy  \n",
    "\n",
    "plt.subplot(211)  \n",
    "plt.plot(History.history['acc'])  \n",
    "plt.plot(History.history['val_acc'])  \n",
    "plt.title('Model Accuracy')  \n",
    "plt.ylabel('Accuracy')  \n",
    "plt.xlabel('Epoch')  \n",
    "plt.legend(['train', 'val'], loc='upper left')  \n",
    "\n",
    "# summarize history for loss  \n",
    "\n",
    "plt.subplot(212)  \n",
    "plt.plot(History.history['loss'])  \n",
    "plt.plot(History.history['val_loss'])  \n",
    "plt.title('Model Loss')  \n",
    "plt.ylabel('Loss')  \n",
    "plt.xlabel('Epoch')  \n",
    "plt.legend(['train', 'val'], loc='upper left')  \n",
    "plt.show()"
   ]
  },
  {
   "cell_type": "code",
   "execution_count": 60,
   "metadata": {},
   "outputs": [
    {
     "name": "stdout",
     "output_type": "stream",
     "text": [
      "11/11 [==============================] - ETA:  - ETA:  - ETA:  - ETA:  - ETA:  - ETA:  - ETA:  - ETA:  - ETA:  - ETA:  - 2s 223ms/step\n"
     ]
    }
   ],
   "source": [
    "model.load_weights('drving_gta_hand.hdf5')\n",
    "(eval_loss, eval_accuracy) = model.evaluate_generator(my_generator(X_test, y_test, BATCH_SIZE, False),steps = N_TEST//BATCH_SIZE , verbose=1)"
   ]
  },
  {
   "cell_type": "code",
   "execution_count": 61,
   "metadata": {},
   "outputs": [
    {
     "name": "stdout",
     "output_type": "stream",
     "text": [
      "Test Accuracy: 0.14204545454545456%\n"
     ]
    }
   ],
   "source": [
    "print(\"Test Accuracy: {}%\".format(eval_accuracy))"
   ]
  },
  {
   "cell_type": "code",
   "execution_count": 62,
   "metadata": {},
   "outputs": [
    {
     "name": "stdout",
     "output_type": "stream",
     "text": [
      "11/11 [==============================] - ETA:  - ETA:  - ETA:  - ETA:  - ETA:  - ETA:  - ETA:  - ETA:  - ETA:  - ETA:  - 3s 232ms/step\n"
     ]
    },
    {
     "data": {
      "text/plain": [
       "array([[0.2203495 , 0.21087384, 0.14132817, 0.20451277, 0.22293565],\n",
       "       [0.22052108, 0.20990853, 0.14055134, 0.20613387, 0.22288515],\n",
       "       [0.21816862, 0.21185741, 0.14254223, 0.20567538, 0.22175632],\n",
       "       [0.2161248 , 0.21049646, 0.14379254, 0.20342599, 0.22616024],\n",
       "       [0.22490083, 0.2076892 , 0.137945  , 0.20266594, 0.22679897],\n",
       "       [0.21962161, 0.21118563, 0.14098345, 0.20580989, 0.22239934],\n",
       "       [0.21804945, 0.21118304, 0.14184573, 0.20516035, 0.2237614 ],\n",
       "       [0.2234252 , 0.20854732, 0.13911828, 0.20348862, 0.22542061],\n",
       "       [0.22446269, 0.20789905, 0.1379264 , 0.20273836, 0.22697349],\n",
       "       [0.2265938 , 0.20618571, 0.13671663, 0.20161518, 0.22888865],\n",
       "       [0.2104996 , 0.21591143, 0.14784154, 0.21018475, 0.21556276],\n",
       "       [0.2161248 , 0.21049646, 0.14379254, 0.20342599, 0.22616024],\n",
       "       [0.21963678, 0.21021836, 0.14117494, 0.20454487, 0.22442497],\n",
       "       [0.2161248 , 0.21049646, 0.14379254, 0.20342599, 0.22616024],\n",
       "       [0.21962161, 0.21118563, 0.14098345, 0.20580989, 0.22239934],\n",
       "       [0.21816862, 0.21185741, 0.14254223, 0.20567538, 0.22175632],\n",
       "       [0.22313349, 0.20846802, 0.13935122, 0.2036246 , 0.2254227 ],\n",
       "       [0.21925493, 0.21136741, 0.14098029, 0.2051846 , 0.22321273],\n",
       "       [0.21624498, 0.21350858, 0.14347741, 0.20587018, 0.2208989 ],\n",
       "       [0.22192483, 0.20868082, 0.14016205, 0.2045201 , 0.22471218],\n",
       "       [0.22132775, 0.20913114, 0.13992734, 0.20591326, 0.22370054],\n",
       "       [0.22185281, 0.20886001, 0.1401653 , 0.20466095, 0.22446091],\n",
       "       [0.20991032, 0.21587233, 0.14855   , 0.20995298, 0.21571429],\n",
       "       [0.22413133, 0.20747599, 0.13862585, 0.20296699, 0.22679995],\n",
       "       [0.22118886, 0.20910189, 0.14058572, 0.20181197, 0.22731163],\n",
       "       [0.22161688, 0.20845787, 0.1406918 , 0.20392357, 0.2253099 ],\n",
       "       [0.21974279, 0.21175459, 0.14115945, 0.20552719, 0.22181597],\n",
       "       [0.22443797, 0.20807853, 0.13852827, 0.20289889, 0.22605634],\n",
       "       [0.21846454, 0.21128514, 0.14179988, 0.20719147, 0.22125894],\n",
       "       [0.24631159, 0.19610423, 0.12580667, 0.18945615, 0.2423214 ],\n",
       "       [0.22060356, 0.21068753, 0.14068545, 0.2056183 , 0.22240515],\n",
       "       [0.21925493, 0.21136741, 0.14098029, 0.2051846 , 0.22321273],\n",
       "       [0.22495392, 0.20707154, 0.13799253, 0.20279148, 0.22719054],\n",
       "       [0.22080238, 0.21006435, 0.1404293 , 0.20573269, 0.22297125],\n",
       "       [0.22139883, 0.20966436, 0.13989128, 0.20524532, 0.22380024],\n",
       "       [0.22072639, 0.2094533 , 0.14055832, 0.20487548, 0.22438648],\n",
       "       [0.21976055, 0.21091875, 0.14147733, 0.20520759, 0.22263573],\n",
       "       [0.2179008 , 0.21206297, 0.14303914, 0.20555255, 0.22144452],\n",
       "       [0.242256  , 0.19521797, 0.12902018, 0.19162276, 0.24188314],\n",
       "       [0.22080238, 0.21006435, 0.1404293 , 0.20573269, 0.22297125],\n",
       "       [0.22247681, 0.20847434, 0.13860148, 0.20453086, 0.22591649],\n",
       "       [0.22446269, 0.20789905, 0.1379264 , 0.20273836, 0.22697349],\n",
       "       [0.22472388, 0.20721619, 0.13808578, 0.20299077, 0.22698334],\n",
       "       [0.2104996 , 0.21591143, 0.14784154, 0.21018475, 0.21556276],\n",
       "       [0.22912796, 0.20394802, 0.13567966, 0.1993994 , 0.23184489],\n",
       "       [0.2265938 , 0.20618571, 0.13671663, 0.20161518, 0.22888865],\n",
       "       [0.21925493, 0.21136741, 0.14098029, 0.2051846 , 0.22321273],\n",
       "       [0.21876684, 0.21227649, 0.14093828, 0.20788799, 0.22013038],\n",
       "       [0.22161688, 0.20845787, 0.1406918 , 0.20392357, 0.2253099 ],\n",
       "       [0.2229695 , 0.20852686, 0.13903648, 0.2038728 , 0.22559428],\n",
       "       [0.21909267, 0.21072765, 0.1417273 , 0.20550044, 0.22295202],\n",
       "       [0.225741  , 0.20584814, 0.13832712, 0.19955608, 0.23052765],\n",
       "       [0.22339664, 0.20834842, 0.13914302, 0.2030624 , 0.22604951],\n",
       "       [0.22471784, 0.20798612, 0.13823287, 0.20278437, 0.22627878],\n",
       "       [0.20906638, 0.2163413 , 0.14893822, 0.21050614, 0.21514791],\n",
       "       [0.2208853 , 0.20953113, 0.14116226, 0.2046109 , 0.22381045],\n",
       "       [0.21720804, 0.21237381, 0.14181763, 0.20615418, 0.22244637],\n",
       "       [0.2196195 , 0.21187524, 0.14123349, 0.20565027, 0.2216215 ],\n",
       "       [0.20991032, 0.21587233, 0.14855   , 0.20995298, 0.21571429],\n",
       "       [0.2255371 , 0.20730856, 0.13790415, 0.20208472, 0.22716549],\n",
       "       [0.22118886, 0.20910189, 0.14058572, 0.20181197, 0.22731163],\n",
       "       [0.22529557, 0.20730725, 0.13819721, 0.20095018, 0.22824986],\n",
       "       [0.22132775, 0.20913114, 0.13992734, 0.20591326, 0.22370054],\n",
       "       [0.21933632, 0.21177325, 0.14188771, 0.20527183, 0.22173089],\n",
       "       [0.21142308, 0.21458584, 0.14726655, 0.20930204, 0.21742257],\n",
       "       [0.21909267, 0.21072765, 0.1417273 , 0.20550044, 0.22295202],\n",
       "       [0.2179008 , 0.21206297, 0.14303914, 0.20555255, 0.22144452],\n",
       "       [0.22118886, 0.20910189, 0.14058572, 0.20181197, 0.22731163],\n",
       "       [0.21616013, 0.21427016, 0.14306521, 0.20659557, 0.21990892],\n",
       "       [0.21404938, 0.21355216, 0.1455924 , 0.20722942, 0.2195767 ],\n",
       "       [0.22079849, 0.2096652 , 0.14103292, 0.2049079 , 0.22359547],\n",
       "       [0.21909267, 0.21072765, 0.1417273 , 0.20550044, 0.22295202],\n",
       "       [0.22547299, 0.20738085, 0.13788107, 0.20218055, 0.2270846 ],\n",
       "       [0.22751583, 0.20555188, 0.13598584, 0.20191422, 0.22903223],\n",
       "       [0.22169349, 0.20961875, 0.14026527, 0.20382187, 0.2246006 ],\n",
       "       [0.22302233, 0.20945558, 0.139073  , 0.20387962, 0.22456953],\n",
       "       [0.21088456, 0.21758063, 0.14727964, 0.20935905, 0.21489611],\n",
       "       [0.2203495 , 0.21087384, 0.14132817, 0.20451277, 0.22293565],\n",
       "       [0.21088456, 0.21758063, 0.14727964, 0.20935905, 0.21489611],\n",
       "       [0.22143821, 0.21045868, 0.13987085, 0.20518105, 0.22305124],\n",
       "       [0.22339664, 0.20834842, 0.13914302, 0.2030624 , 0.22604951],\n",
       "       [0.22439718, 0.20737503, 0.13760985, 0.2042682 , 0.22634968],\n",
       "       [0.22472388, 0.20721619, 0.13808578, 0.20299077, 0.22698334],\n",
       "       [0.23783726, 0.196977  , 0.13224162, 0.19214536, 0.24079882],\n",
       "       [0.2210709 , 0.20980161, 0.14004385, 0.20543736, 0.22364628],\n",
       "       [0.22880757, 0.20483789, 0.13587381, 0.20109633, 0.2293844 ],\n",
       "       [0.21976055, 0.21091875, 0.14147733, 0.20520759, 0.22263573],\n",
       "       [0.21047899, 0.21581575, 0.14796512, 0.21012688, 0.21561326],\n",
       "       [0.22101818, 0.21061675, 0.1398159 , 0.20587365, 0.22267549],\n",
       "       [0.22288035, 0.21014994, 0.13933405, 0.2030493 , 0.22458637],\n",
       "       [0.21908902, 0.21168502, 0.1412338 , 0.2073828 , 0.22060935],\n",
       "       [0.21767116, 0.21170577, 0.1419178 , 0.20574306, 0.22296223],\n",
       "       [0.2197838 , 0.21004398, 0.14069387, 0.20638916, 0.2230892 ],\n",
       "       [0.21950611, 0.21065469, 0.14145377, 0.20549165, 0.22289377],\n",
       "       [0.22109473, 0.21045196, 0.1404615 , 0.20473005, 0.22326174],\n",
       "       [0.22357622, 0.20744093, 0.13913365, 0.20140454, 0.22844474],\n",
       "       [0.22646524, 0.20630485, 0.13632506, 0.20239015, 0.22851472],\n",
       "       [0.22065638, 0.20913897, 0.14119731, 0.20516025, 0.22384702],\n",
       "       [0.21976055, 0.21091875, 0.14147733, 0.20520759, 0.22263573],\n",
       "       [0.22589858, 0.20580956, 0.13825071, 0.19947475, 0.2305664 ],\n",
       "       [0.21846454, 0.21128514, 0.14179988, 0.20719147, 0.22125894],\n",
       "       [0.24167866, 0.19316621, 0.12948379, 0.18914847, 0.24652277],\n",
       "       [0.22313349, 0.20846802, 0.13935122, 0.2036246 , 0.2254227 ],\n",
       "       [0.21846454, 0.21128514, 0.14179988, 0.20719147, 0.22125894],\n",
       "       [0.22167543, 0.20959386, 0.14030188, 0.20375192, 0.22467694],\n",
       "       [0.22529557, 0.20730725, 0.13819721, 0.20095018, 0.22824986],\n",
       "       [0.22364765, 0.20797488, 0.13871758, 0.20317115, 0.22648875],\n",
       "       [0.24631159, 0.19610423, 0.12580667, 0.18945615, 0.2423214 ],\n",
       "       [0.21925493, 0.21136741, 0.14098029, 0.2051846 , 0.22321273],\n",
       "       [0.21710104, 0.21371555, 0.14239062, 0.20610109, 0.22069173],\n",
       "       [0.22116075, 0.2105155 , 0.14023179, 0.20528373, 0.22280821],\n",
       "       [0.22632729, 0.20570025, 0.13800582, 0.19924726, 0.23071933],\n",
       "       [0.21925493, 0.21136741, 0.14098029, 0.2051846 , 0.22321273],\n",
       "       [0.22109473, 0.21045196, 0.1404615 , 0.20473005, 0.22326174],\n",
       "       [0.2228816 , 0.2094593 , 0.1390597 , 0.20419057, 0.2244089 ],\n",
       "       [0.2185304 , 0.21086892, 0.14194764, 0.20563047, 0.22302258],\n",
       "       [0.22109473, 0.21045196, 0.1404615 , 0.20473005, 0.22326174],\n",
       "       [0.22137882, 0.20959628, 0.14003113, 0.20578258, 0.22321121],\n",
       "       [0.22219236, 0.20834702, 0.13996351, 0.20236517, 0.22713195],\n",
       "       [0.2179008 , 0.21206297, 0.14303914, 0.20555255, 0.22144452],\n",
       "       [0.21949223, 0.21061894, 0.14165816, 0.20458338, 0.22364736],\n",
       "       [0.21991368, 0.21059608, 0.14068045, 0.2055054 , 0.22330435],\n",
       "       [0.24671248, 0.19541723, 0.12590195, 0.18851642, 0.24345188],\n",
       "       [0.20991032, 0.21587233, 0.14855   , 0.20995298, 0.21571429],\n",
       "       [0.22191516, 0.2088269 , 0.13955536, 0.20490383, 0.22479874],\n",
       "       [0.22143759, 0.21043001, 0.14034633, 0.2042331 , 0.22355305],\n",
       "       [0.22912796, 0.20394802, 0.13567966, 0.1993994 , 0.23184489],\n",
       "       [0.22729594, 0.20579581, 0.13679172, 0.2009476 , 0.22916889],\n",
       "       [0.21962161, 0.21118563, 0.14098345, 0.20580989, 0.22239934],\n",
       "       [0.22338825, 0.20841496, 0.1392475 , 0.20291816, 0.2260312 ],\n",
       "       [0.21950611, 0.21065469, 0.14145377, 0.20549165, 0.22289377],\n",
       "       [0.21974279, 0.21175459, 0.14115945, 0.20552719, 0.22181597],\n",
       "       [0.21962161, 0.21118563, 0.14098345, 0.20580989, 0.22239934],\n",
       "       [0.22357622, 0.20744093, 0.13913365, 0.20140454, 0.22844474],\n",
       "       [0.22646524, 0.20630485, 0.13632506, 0.20239015, 0.22851472],\n",
       "       [0.22357622, 0.20744093, 0.13913365, 0.20140454, 0.22844474],\n",
       "       [0.21933632, 0.21177325, 0.14188771, 0.20527183, 0.22173089],\n",
       "       [0.21962161, 0.21118563, 0.14098345, 0.20580989, 0.22239934],\n",
       "       [0.22265877, 0.20905031, 0.14022203, 0.20259722, 0.2254717 ],\n",
       "       [0.22413133, 0.20747599, 0.13862585, 0.20296699, 0.22679995],\n",
       "       [0.22080238, 0.21006435, 0.1404293 , 0.20573269, 0.22297125],\n",
       "       [0.24238342, 0.1981821 , 0.12796223, 0.193463  , 0.23800923],\n",
       "       [0.225741  , 0.20584814, 0.13832712, 0.19955608, 0.23052765],\n",
       "       [0.22986668, 0.20360015, 0.134352  , 0.19998582, 0.23219538],\n",
       "       [0.21729644, 0.21312949, 0.14208138, 0.20772095, 0.21977183],\n",
       "       [0.22364765, 0.20797488, 0.13871758, 0.20317115, 0.22648875],\n",
       "       [0.21949223, 0.21061894, 0.14165816, 0.20458338, 0.22364736],\n",
       "       [0.22065638, 0.20913897, 0.14119731, 0.20516025, 0.22384702],\n",
       "       [0.22127096, 0.20962557, 0.14011541, 0.20584442, 0.22314362],\n",
       "       [0.22313349, 0.20846802, 0.13935122, 0.2036246 , 0.2254227 ],\n",
       "       [0.21978235, 0.2108906 , 0.14070314, 0.20525594, 0.22336796],\n",
       "       [0.21816862, 0.21185741, 0.14254223, 0.20567538, 0.22175632],\n",
       "       [0.21950611, 0.21065469, 0.14145377, 0.20549165, 0.22289377],\n",
       "       [0.2210709 , 0.20980161, 0.14004385, 0.20543736, 0.22364628],\n",
       "       [0.21950611, 0.21065469, 0.14145377, 0.20549165, 0.22289377],\n",
       "       [0.2197838 , 0.21004398, 0.14069387, 0.20638916, 0.2230892 ],\n",
       "       [0.21870597, 0.21240963, 0.14153463, 0.20615907, 0.22119068],\n",
       "       [0.22654285, 0.20592047, 0.13753256, 0.20029986, 0.22970422],\n",
       "       [0.225741  , 0.20584814, 0.13832712, 0.19955608, 0.23052765],\n",
       "       [0.2232597 , 0.20833564, 0.1391511 , 0.20288017, 0.22637343],\n",
       "       [0.24167866, 0.19316621, 0.12948379, 0.18914847, 0.24652277],\n",
       "       [0.21870597, 0.21240963, 0.14153463, 0.20615907, 0.22119068],\n",
       "       [0.2220558 , 0.20951813, 0.13956383, 0.20418517, 0.2246771 ],\n",
       "       [0.22072639, 0.2094533 , 0.14055832, 0.20487548, 0.22438648],\n",
       "       [0.22167051, 0.20936796, 0.13980322, 0.2052376 , 0.22392073],\n",
       "       [0.22357622, 0.20744093, 0.13913365, 0.20140454, 0.22844474],\n",
       "       [0.21966562, 0.21019468, 0.14124131, 0.2050842 , 0.22381419],\n",
       "       [0.21816862, 0.21185741, 0.14254223, 0.20567538, 0.22175632],\n",
       "       [0.22065638, 0.20913897, 0.14119731, 0.20516025, 0.22384702],\n",
       "       [0.21804945, 0.21118304, 0.14184573, 0.20516035, 0.2237614 ],\n",
       "       [0.22364765, 0.20797488, 0.13871758, 0.20317115, 0.22648875],\n",
       "       [0.22310725, 0.20855749, 0.1392141 , 0.20356895, 0.22555219],\n",
       "       [0.2188935 , 0.21001092, 0.14167182, 0.20551555, 0.22390823],\n",
       "       [0.21624498, 0.21350858, 0.14347741, 0.20587018, 0.2208989 ],\n",
       "       [0.22954337, 0.20407023, 0.13465723, 0.19997528, 0.23175393],\n",
       "       [0.21729644, 0.21312949, 0.14208138, 0.20772095, 0.21977183]],\n",
       "      dtype=float32)"
      ]
     },
     "execution_count": 62,
     "metadata": {},
     "output_type": "execute_result"
    }
   ],
   "source": [
    "predictions = model.predict_generator(my_generator(X_test, y_test, BATCH_SIZE, False),steps = N_TEST // BATCH_SIZE , verbose=1)\n",
    "predictions"
   ]
  },
  {
   "cell_type": "code",
   "execution_count": 108,
   "metadata": {},
   "outputs": [
    {
     "name": "stdout",
     "output_type": "stream",
     "text": [
      "Real    [0, 0, 0, 0, 1]\n",
      "Predict [[1.2753608e-12 5.0354279e-17 9.9994528e-01 4.3680910e-05 1.1111497e-05]]\n",
      "Loss    [[1.62654513e-24 2.53555341e-33 9.99890569e-01 1.90802186e-09\n",
      "  9.99977777e-01]]\n",
      "W [[1.00000000e+00 1.00000000e+00 1.09431134e-04 9.99999998e-01\n",
      "  2.22228703e-05]]\n"
     ]
    }
   ],
   "source": [
    "# y_w = np.ones(5)\n",
    "# validation_keys = y_val[0]\n",
    "# y_proba = model.predict(np.expand_dims(X_val[0],0))\n",
    "# y_pred = np.argmax(y_proba)\n",
    "# y_real = np.argmax(validation_keys)\n",
    "# y_loss = (y_proba - validation_keys)**2\n",
    "# print(\"Real   \",validation_keys)\n",
    "# print(\"Predict\", y_proba)\n",
    "# print(\"Loss   \", y_loss)\n",
    "# print(\"W\", (y_w - y_loss))"
   ]
  },
  {
   "cell_type": "code",
   "execution_count": 181,
   "metadata": {},
   "outputs": [],
   "source": [
    "y_pred = np.argmax(predictions, axis=1)\n",
    "y_true = [np.argmax(label_test) for label_test in y_test]"
   ]
  },
  {
   "cell_type": "code",
   "execution_count": null,
   "metadata": {},
   "outputs": [],
   "source": [
    "# prediction = model.predict([screen.reshape(WIDTH,HEIGHT,3)])[0]\n",
    "# prediction = np.array(prediction) * np.array([4.5, 0.1, 0.1, 0.1,  1.8,   1.8, 0.5, 0.5, 0.2])"
   ]
  },
  {
   "cell_type": "markdown",
   "metadata": {},
   "source": [
    "## NVIDIA"
   ]
  },
  {
   "cell_type": "code",
   "execution_count": 200,
   "metadata": {},
   "outputs": [
    {
     "name": "stderr",
     "output_type": "stream",
     "text": [
      "C:\\Users\\micka\\Anaconda3\\envs\\tensorflow-sessions\\lib\\site-packages\\ipykernel_launcher.py:2: UserWarning: Update your `Conv2D` call to the Keras 2 API: `Conv2D(24, (5, 5), input_shape=(60, 107, ..., activation=\"elu\")`\n",
      "  \n",
      "C:\\Users\\micka\\Anaconda3\\envs\\tensorflow-sessions\\lib\\site-packages\\ipykernel_launcher.py:3: UserWarning: Update your `Conv2D` call to the Keras 2 API: `Conv2D(36, (5, 5), activation=\"elu\")`\n",
      "  This is separate from the ipykernel package so we can avoid doing imports until\n",
      "C:\\Users\\micka\\Anaconda3\\envs\\tensorflow-sessions\\lib\\site-packages\\ipykernel_launcher.py:4: UserWarning: Update your `Conv2D` call to the Keras 2 API: `Conv2D(48, (5, 5), activation=\"elu\")`\n",
      "  after removing the cwd from sys.path.\n",
      "C:\\Users\\micka\\Anaconda3\\envs\\tensorflow-sessions\\lib\\site-packages\\ipykernel_launcher.py:5: UserWarning: Update your `Conv2D` call to the Keras 2 API: `Conv2D(64, (3, 3), activation=\"elu\")`\n",
      "  \"\"\"\n",
      "C:\\Users\\micka\\Anaconda3\\envs\\tensorflow-sessions\\lib\\site-packages\\ipykernel_launcher.py:6: UserWarning: Update your `Conv2D` call to the Keras 2 API: `Conv2D(64, (3, 3), activation=\"elu\")`\n",
      "  \n"
     ]
    },
    {
     "name": "stdout",
     "output_type": "stream",
     "text": [
      "_________________________________________________________________\n",
      "Layer (type)                 Output Shape              Param #   \n",
      "=================================================================\n",
      "conv2d_26 (Conv2D)           (None, 56, 103, 24)       624       \n",
      "_________________________________________________________________\n",
      "conv2d_27 (Conv2D)           (None, 52, 99, 36)        21636     \n",
      "_________________________________________________________________\n",
      "conv2d_28 (Conv2D)           (None, 48, 95, 48)        43248     \n",
      "_________________________________________________________________\n",
      "conv2d_29 (Conv2D)           (None, 46, 93, 64)        27712     \n",
      "_________________________________________________________________\n",
      "conv2d_30 (Conv2D)           (None, 44, 91, 64)        36928     \n",
      "_________________________________________________________________\n",
      "dropout_5 (Dropout)          (None, 44, 91, 64)        0         \n",
      "_________________________________________________________________\n",
      "flatten_4 (Flatten)          (None, 256256)            0         \n",
      "_________________________________________________________________\n",
      "dense_11 (Dense)             (None, 100)               25625700  \n",
      "_________________________________________________________________\n",
      "dense_12 (Dense)             (None, 50)                5050      \n",
      "_________________________________________________________________\n",
      "dense_13 (Dense)             (None, 10)                510       \n",
      "_________________________________________________________________\n",
      "dense_14 (Dense)             (None, 5)                 55        \n",
      "_________________________________________________________________\n",
      "batch_normalization_8 (Batch (None, 5)                 20        \n",
      "_________________________________________________________________\n",
      "activation_12 (Activation)   (None, 5)                 0         \n",
      "=================================================================\n",
      "Total params: 25,761,483\n",
      "Trainable params: 25,761,473\n",
      "Non-trainable params: 10\n",
      "_________________________________________________________________\n"
     ]
    }
   ],
   "source": [
    "model = Sequential()\n",
    "model.add(Conv2D(24, 5, 5, input_shape=(HEIGHT, WIDTH, CHANNEL), activation='elu'))\n",
    "model.add(Conv2D(36, 5, 5, activation='elu'))\n",
    "model.add(Conv2D(48, 5, 5, activation='elu'))\n",
    "model.add(Conv2D(64, 3, 3, activation='elu'))\n",
    "model.add(Conv2D(64, 3, 3, activation='elu'))\n",
    "model.add(Dropout(0.5))\n",
    "\n",
    "model.add(Flatten())\n",
    "model.add(Dense(100, activation = 'elu'))\n",
    "model.add(Dense(50, activation = 'elu'))\n",
    "model.add(Dense(10, activation = 'elu'))\n",
    "model.add(Dense(5))\n",
    "model.add(BatchNormalization())\n",
    "model.add(Activation('softmax'))\n",
    "\n",
    "model.compile(loss='categorical_crossentropy', optimizer = 'adam', metrics=['accuracy'])\n",
    "\n",
    "model.summary()"
   ]
  },
  {
   "cell_type": "code",
   "execution_count": 185,
   "metadata": {},
   "outputs": [
    {
     "name": "stdout",
     "output_type": "stream",
     "text": [
      "Epoch 1/2\n",
      "21/89 [======>.......................] - ETA: 19:44 - loss: 0.9984 - acc: 0.11 - ETA: 17:38 - loss: 1.1327 - acc: 0.18 - ETA: 16:15 - loss: 1.1970 - acc: 0.23 - ETA: 13:54 - loss: 1.3825 - acc: 0.20 - ETA: 13:35 - loss: 1.4089 - acc: 0.23 - ETA: 13:24 - loss: 1.3745 - acc: 0.25 - ETA: 13:43 - loss: 1.3870 - acc: 0.27 - ETA: 13:35 - loss: 1.3709 - acc: 0.26 - ETA: 14:07 - loss: 1.3337 - acc: 0.28 - ETA: 14:18 - loss: 1.2765 - acc: 0.30 - ETA: 13:57 - loss: 1.2899 - acc: 0.30 - ETA: 13:46 - loss: 1.3090 - acc: 0.30 - ETA: 13:24 - loss: 1.2741 - acc: 0.32 - ETA: 13:04 - loss: 1.2642 - acc: 0.32 - ETA: 12:47 - loss: 1.2729 - acc: 0.32 - ETA: 12:45 - loss: 1.2462 - acc: 0.33 - ETA: 12:27 - loss: 1.2476 - acc: 0.33 - ETA: 12:09 - loss: 1.2361 - acc: 0.34 - ETA: 11:56 - loss: 1.2193 - acc: 0.35 - ETA: 11:36 - loss: 1.2102 - acc: 0.35 - ETA: 11:17 - loss: 1.2258 - acc: 0.3558"
     ]
    },
    {
     "ename": "KeyboardInterrupt",
     "evalue": "",
     "output_type": "error",
     "traceback": [
      "\u001b[1;31m---------------------------------------------------------------------------\u001b[0m",
      "\u001b[1;31mKeyboardInterrupt\u001b[0m                         Traceback (most recent call last)",
      "\u001b[1;32m<ipython-input-185-a5255f34f230>\u001b[0m in \u001b[0;36m<module>\u001b[1;34m\u001b[0m\n\u001b[0;32m     23\u001b[0m                                   \u001b[0mverbose\u001b[0m\u001b[1;33m=\u001b[0m\u001b[1;36m1\u001b[0m\u001b[1;33m,\u001b[0m\u001b[1;33m\u001b[0m\u001b[1;33m\u001b[0m\u001b[0m\n\u001b[0;32m     24\u001b[0m                                   \u001b[0mcallbacks\u001b[0m\u001b[1;33m=\u001b[0m\u001b[1;33m[\u001b[0m\u001b[0mtensorboard\u001b[0m\u001b[1;33m,\u001b[0m \u001b[0mLearningRateScheduler\u001b[0m\u001b[1;33m(\u001b[0m\u001b[0mlr_schedule\u001b[0m\u001b[1;33m)\u001b[0m\u001b[1;33m,\u001b[0m \u001b[0mcheckpointer\u001b[0m\u001b[1;33m]\u001b[0m\u001b[1;33m,\u001b[0m\u001b[1;33m\u001b[0m\u001b[1;33m\u001b[0m\u001b[0m\n\u001b[1;32m---> 25\u001b[1;33m                                   shuffle = 1)\n\u001b[0m\u001b[0;32m     26\u001b[0m \u001b[1;33m\u001b[0m\u001b[0m\n\u001b[0;32m     27\u001b[0m \u001b[1;31m# # Saving\u001b[0m\u001b[1;33m\u001b[0m\u001b[1;33m\u001b[0m\u001b[1;33m\u001b[0m\u001b[0m\n",
      "\u001b[1;32m~\\Anaconda3\\envs\\tensorflow-sessions\\lib\\site-packages\\keras\\legacy\\interfaces.py\u001b[0m in \u001b[0;36mwrapper\u001b[1;34m(*args, **kwargs)\u001b[0m\n\u001b[0;32m     89\u001b[0m                 warnings.warn('Update your `' + object_name + '` call to the ' +\n\u001b[0;32m     90\u001b[0m                               'Keras 2 API: ' + signature, stacklevel=2)\n\u001b[1;32m---> 91\u001b[1;33m             \u001b[1;32mreturn\u001b[0m \u001b[0mfunc\u001b[0m\u001b[1;33m(\u001b[0m\u001b[1;33m*\u001b[0m\u001b[0margs\u001b[0m\u001b[1;33m,\u001b[0m \u001b[1;33m**\u001b[0m\u001b[0mkwargs\u001b[0m\u001b[1;33m)\u001b[0m\u001b[1;33m\u001b[0m\u001b[1;33m\u001b[0m\u001b[0m\n\u001b[0m\u001b[0;32m     92\u001b[0m         \u001b[0mwrapper\u001b[0m\u001b[1;33m.\u001b[0m\u001b[0m_original_function\u001b[0m \u001b[1;33m=\u001b[0m \u001b[0mfunc\u001b[0m\u001b[1;33m\u001b[0m\u001b[1;33m\u001b[0m\u001b[0m\n\u001b[0;32m     93\u001b[0m         \u001b[1;32mreturn\u001b[0m \u001b[0mwrapper\u001b[0m\u001b[1;33m\u001b[0m\u001b[1;33m\u001b[0m\u001b[0m\n",
      "\u001b[1;32m~\\Anaconda3\\envs\\tensorflow-sessions\\lib\\site-packages\\keras\\engine\\training.py\u001b[0m in \u001b[0;36mfit_generator\u001b[1;34m(self, generator, steps_per_epoch, epochs, verbose, callbacks, validation_data, validation_steps, class_weight, max_queue_size, workers, use_multiprocessing, shuffle, initial_epoch)\u001b[0m\n\u001b[0;32m   1416\u001b[0m             \u001b[0muse_multiprocessing\u001b[0m\u001b[1;33m=\u001b[0m\u001b[0muse_multiprocessing\u001b[0m\u001b[1;33m,\u001b[0m\u001b[1;33m\u001b[0m\u001b[1;33m\u001b[0m\u001b[0m\n\u001b[0;32m   1417\u001b[0m             \u001b[0mshuffle\u001b[0m\u001b[1;33m=\u001b[0m\u001b[0mshuffle\u001b[0m\u001b[1;33m,\u001b[0m\u001b[1;33m\u001b[0m\u001b[1;33m\u001b[0m\u001b[0m\n\u001b[1;32m-> 1418\u001b[1;33m             initial_epoch=initial_epoch)\n\u001b[0m\u001b[0;32m   1419\u001b[0m \u001b[1;33m\u001b[0m\u001b[0m\n\u001b[0;32m   1420\u001b[0m     \u001b[1;33m@\u001b[0m\u001b[0minterfaces\u001b[0m\u001b[1;33m.\u001b[0m\u001b[0mlegacy_generator_methods_support\u001b[0m\u001b[1;33m\u001b[0m\u001b[1;33m\u001b[0m\u001b[0m\n",
      "\u001b[1;32m~\\Anaconda3\\envs\\tensorflow-sessions\\lib\\site-packages\\keras\\engine\\training_generator.py\u001b[0m in \u001b[0;36mfit_generator\u001b[1;34m(model, generator, steps_per_epoch, epochs, verbose, callbacks, validation_data, validation_steps, class_weight, max_queue_size, workers, use_multiprocessing, shuffle, initial_epoch)\u001b[0m\n\u001b[0;32m    215\u001b[0m                 outs = model.train_on_batch(x, y,\n\u001b[0;32m    216\u001b[0m                                             \u001b[0msample_weight\u001b[0m\u001b[1;33m=\u001b[0m\u001b[0msample_weight\u001b[0m\u001b[1;33m,\u001b[0m\u001b[1;33m\u001b[0m\u001b[1;33m\u001b[0m\u001b[0m\n\u001b[1;32m--> 217\u001b[1;33m                                             class_weight=class_weight)\n\u001b[0m\u001b[0;32m    218\u001b[0m \u001b[1;33m\u001b[0m\u001b[0m\n\u001b[0;32m    219\u001b[0m                 \u001b[0mouts\u001b[0m \u001b[1;33m=\u001b[0m \u001b[0mto_list\u001b[0m\u001b[1;33m(\u001b[0m\u001b[0mouts\u001b[0m\u001b[1;33m)\u001b[0m\u001b[1;33m\u001b[0m\u001b[1;33m\u001b[0m\u001b[0m\n",
      "\u001b[1;32m~\\Anaconda3\\envs\\tensorflow-sessions\\lib\\site-packages\\keras\\engine\\training.py\u001b[0m in \u001b[0;36mtrain_on_batch\u001b[1;34m(self, x, y, sample_weight, class_weight)\u001b[0m\n\u001b[0;32m   1215\u001b[0m             \u001b[0mins\u001b[0m \u001b[1;33m=\u001b[0m \u001b[0mx\u001b[0m \u001b[1;33m+\u001b[0m \u001b[0my\u001b[0m \u001b[1;33m+\u001b[0m \u001b[0msample_weights\u001b[0m\u001b[1;33m\u001b[0m\u001b[1;33m\u001b[0m\u001b[0m\n\u001b[0;32m   1216\u001b[0m         \u001b[0mself\u001b[0m\u001b[1;33m.\u001b[0m\u001b[0m_make_train_function\u001b[0m\u001b[1;33m(\u001b[0m\u001b[1;33m)\u001b[0m\u001b[1;33m\u001b[0m\u001b[1;33m\u001b[0m\u001b[0m\n\u001b[1;32m-> 1217\u001b[1;33m         \u001b[0moutputs\u001b[0m \u001b[1;33m=\u001b[0m \u001b[0mself\u001b[0m\u001b[1;33m.\u001b[0m\u001b[0mtrain_function\u001b[0m\u001b[1;33m(\u001b[0m\u001b[0mins\u001b[0m\u001b[1;33m)\u001b[0m\u001b[1;33m\u001b[0m\u001b[1;33m\u001b[0m\u001b[0m\n\u001b[0m\u001b[0;32m   1218\u001b[0m         \u001b[1;32mreturn\u001b[0m \u001b[0munpack_singleton\u001b[0m\u001b[1;33m(\u001b[0m\u001b[0moutputs\u001b[0m\u001b[1;33m)\u001b[0m\u001b[1;33m\u001b[0m\u001b[1;33m\u001b[0m\u001b[0m\n\u001b[0;32m   1219\u001b[0m \u001b[1;33m\u001b[0m\u001b[0m\n",
      "\u001b[1;32m~\\Anaconda3\\envs\\tensorflow-sessions\\lib\\site-packages\\keras\\backend\\tensorflow_backend.py\u001b[0m in \u001b[0;36m__call__\u001b[1;34m(self, inputs)\u001b[0m\n\u001b[0;32m   2713\u001b[0m                 \u001b[1;32mreturn\u001b[0m \u001b[0mself\u001b[0m\u001b[1;33m.\u001b[0m\u001b[0m_legacy_call\u001b[0m\u001b[1;33m(\u001b[0m\u001b[0minputs\u001b[0m\u001b[1;33m)\u001b[0m\u001b[1;33m\u001b[0m\u001b[1;33m\u001b[0m\u001b[0m\n\u001b[0;32m   2714\u001b[0m \u001b[1;33m\u001b[0m\u001b[0m\n\u001b[1;32m-> 2715\u001b[1;33m             \u001b[1;32mreturn\u001b[0m \u001b[0mself\u001b[0m\u001b[1;33m.\u001b[0m\u001b[0m_call\u001b[0m\u001b[1;33m(\u001b[0m\u001b[0minputs\u001b[0m\u001b[1;33m)\u001b[0m\u001b[1;33m\u001b[0m\u001b[1;33m\u001b[0m\u001b[0m\n\u001b[0m\u001b[0;32m   2716\u001b[0m         \u001b[1;32melse\u001b[0m\u001b[1;33m:\u001b[0m\u001b[1;33m\u001b[0m\u001b[1;33m\u001b[0m\u001b[0m\n\u001b[0;32m   2717\u001b[0m             \u001b[1;32mif\u001b[0m \u001b[0mpy_any\u001b[0m\u001b[1;33m(\u001b[0m\u001b[0mis_tensor\u001b[0m\u001b[1;33m(\u001b[0m\u001b[0mx\u001b[0m\u001b[1;33m)\u001b[0m \u001b[1;32mfor\u001b[0m \u001b[0mx\u001b[0m \u001b[1;32min\u001b[0m \u001b[0minputs\u001b[0m\u001b[1;33m)\u001b[0m\u001b[1;33m:\u001b[0m\u001b[1;33m\u001b[0m\u001b[1;33m\u001b[0m\u001b[0m\n",
      "\u001b[1;32m~\\Anaconda3\\envs\\tensorflow-sessions\\lib\\site-packages\\keras\\backend\\tensorflow_backend.py\u001b[0m in \u001b[0;36m_call\u001b[1;34m(self, inputs)\u001b[0m\n\u001b[0;32m   2673\u001b[0m             \u001b[0mfetched\u001b[0m \u001b[1;33m=\u001b[0m \u001b[0mself\u001b[0m\u001b[1;33m.\u001b[0m\u001b[0m_callable_fn\u001b[0m\u001b[1;33m(\u001b[0m\u001b[1;33m*\u001b[0m\u001b[0marray_vals\u001b[0m\u001b[1;33m,\u001b[0m \u001b[0mrun_metadata\u001b[0m\u001b[1;33m=\u001b[0m\u001b[0mself\u001b[0m\u001b[1;33m.\u001b[0m\u001b[0mrun_metadata\u001b[0m\u001b[1;33m)\u001b[0m\u001b[1;33m\u001b[0m\u001b[1;33m\u001b[0m\u001b[0m\n\u001b[0;32m   2674\u001b[0m         \u001b[1;32melse\u001b[0m\u001b[1;33m:\u001b[0m\u001b[1;33m\u001b[0m\u001b[1;33m\u001b[0m\u001b[0m\n\u001b[1;32m-> 2675\u001b[1;33m             \u001b[0mfetched\u001b[0m \u001b[1;33m=\u001b[0m \u001b[0mself\u001b[0m\u001b[1;33m.\u001b[0m\u001b[0m_callable_fn\u001b[0m\u001b[1;33m(\u001b[0m\u001b[1;33m*\u001b[0m\u001b[0marray_vals\u001b[0m\u001b[1;33m)\u001b[0m\u001b[1;33m\u001b[0m\u001b[1;33m\u001b[0m\u001b[0m\n\u001b[0m\u001b[0;32m   2676\u001b[0m         \u001b[1;32mreturn\u001b[0m \u001b[0mfetched\u001b[0m\u001b[1;33m[\u001b[0m\u001b[1;33m:\u001b[0m\u001b[0mlen\u001b[0m\u001b[1;33m(\u001b[0m\u001b[0mself\u001b[0m\u001b[1;33m.\u001b[0m\u001b[0moutputs\u001b[0m\u001b[1;33m)\u001b[0m\u001b[1;33m]\u001b[0m\u001b[1;33m\u001b[0m\u001b[1;33m\u001b[0m\u001b[0m\n\u001b[0;32m   2677\u001b[0m \u001b[1;33m\u001b[0m\u001b[0m\n",
      "\u001b[1;32m~\\Anaconda3\\envs\\tensorflow-sessions\\lib\\site-packages\\tensorflow\\python\\client\\session.py\u001b[0m in \u001b[0;36m__call__\u001b[1;34m(self, *args, **kwargs)\u001b[0m\n\u001b[0;32m   1437\u001b[0m           ret = tf_session.TF_SessionRunCallable(\n\u001b[0;32m   1438\u001b[0m               \u001b[0mself\u001b[0m\u001b[1;33m.\u001b[0m\u001b[0m_session\u001b[0m\u001b[1;33m.\u001b[0m\u001b[0m_session\u001b[0m\u001b[1;33m,\u001b[0m \u001b[0mself\u001b[0m\u001b[1;33m.\u001b[0m\u001b[0m_handle\u001b[0m\u001b[1;33m,\u001b[0m \u001b[0margs\u001b[0m\u001b[1;33m,\u001b[0m \u001b[0mstatus\u001b[0m\u001b[1;33m,\u001b[0m\u001b[1;33m\u001b[0m\u001b[1;33m\u001b[0m\u001b[0m\n\u001b[1;32m-> 1439\u001b[1;33m               run_metadata_ptr)\n\u001b[0m\u001b[0;32m   1440\u001b[0m         \u001b[1;32mif\u001b[0m \u001b[0mrun_metadata\u001b[0m\u001b[1;33m:\u001b[0m\u001b[1;33m\u001b[0m\u001b[1;33m\u001b[0m\u001b[0m\n\u001b[0;32m   1441\u001b[0m           \u001b[0mproto_data\u001b[0m \u001b[1;33m=\u001b[0m \u001b[0mtf_session\u001b[0m\u001b[1;33m.\u001b[0m\u001b[0mTF_GetBuffer\u001b[0m\u001b[1;33m(\u001b[0m\u001b[0mrun_metadata_ptr\u001b[0m\u001b[1;33m)\u001b[0m\u001b[1;33m\u001b[0m\u001b[1;33m\u001b[0m\u001b[0m\n",
      "\u001b[1;31mKeyboardInterrupt\u001b[0m: "
     ]
    }
   ],
   "source": [
    "checkpointer = ModelCheckpoint(filepath='drving_gta_nvidia.hdf5', verbose=1, save_best_only=True)\n",
    "\n",
    "# tensorboard = TensorBoard(log_dir='./logs', histogram_freq=0, write_graph=True, write_images=False)\n",
    "NAME = 'drving_gta_nvidia_60x107_{}'.format(int(time.time()))\n",
    "tensorboard = TensorBoard(log_dir='logs/{}'.format(NAME))\n",
    "\n",
    "def lr_schedule(epoch):\n",
    "    \"\"\"Change the learning rate \"\"\"\n",
    "    lrate = 0.001\n",
    "    if epoch > 10:\n",
    "        lrate = 0.0005\n",
    "    if epoch > 50:\n",
    "        lrate = 0.0003\n",
    "    return lrate\n",
    "\n",
    "# tensorboard --logdir=logs/ --host localhost --port 8088\n",
    "\n",
    "History = model.fit_generator(my_generator(X_train, y_train, BATCH_SIZE, True),\n",
    "                                  steps_per_epoch=N_TRAIN // BATCH_SIZE, \n",
    "                                  epochs=2,\n",
    "                                  validation_data=my_generator(X_val, y_val, BATCH_SIZE, False),\n",
    "                                  validation_steps=N_TEST // BATCH_SIZE,\n",
    "                                  verbose=1,\n",
    "                                  callbacks=[tensorboard, LearningRateScheduler(lr_schedule), checkpointer],\n",
    "                                  shuffle = 1)\n",
    "\n",
    "# # Saving\n",
    "# model.save('drving_gta_hand.h5')"
   ]
  },
  {
   "cell_type": "code",
   "execution_count": 802,
   "metadata": {},
   "outputs": [
    {
     "data": {
      "image/png": "[encoded data removed]",
      "text/plain": [
       "<Figure size 720x720 with 2 Axes>"
      ]
     },
     "metadata": {
      "needs_background": "light"
     },
     "output_type": "display_data"
    }
   ],
   "source": [
    "plt.figure(1, figsize=(10,10))  \n",
    "\n",
    "# summarize history for accuracy  \n",
    "\n",
    "plt.subplot(211)  \n",
    "plt.plot(History.history['acc'])  \n",
    "plt.plot(History.history['val_acc'])  \n",
    "plt.title('Model Accuracy')  \n",
    "plt.ylabel('Accuracy')  \n",
    "plt.xlabel('Epoch')  \n",
    "plt.legend(['train', 'val'], loc='upper left')  \n",
    "\n",
    "# summarize history for loss  \n",
    "\n",
    "plt.subplot(212)  \n",
    "plt.plot(History.history['loss'])  \n",
    "plt.plot(History.history['val_loss'])  \n",
    "plt.title('Model Loss')  \n",
    "plt.ylabel('Loss')  \n",
    "plt.xlabel('Epoch')  \n",
    "plt.legend(['train', 'val'], loc='upper left')  \n",
    "plt.show()"
   ]
  },
  {
   "cell_type": "code",
   "execution_count": 803,
   "metadata": {},
   "outputs": [
    {
     "name": "stdout",
     "output_type": "stream",
     "text": [
      "50/50 [==============================] - ETA: 35 - ETA: 35 - ETA: 38 - ETA: 37 - ETA: 36 - ETA: 34 - ETA: 33 - ETA: 32 - ETA: 31 - ETA: 30 - ETA: 29 - ETA: 29 - ETA: 28 - ETA: 27 - ETA: 26 - ETA: 25 - ETA: 24 - ETA: 24 - ETA: 23 - ETA: 22 - ETA: 21 - ETA: 20 - ETA: 20 - ETA: 19 - ETA: 18 - ETA: 17 - ETA: 16 - ETA: 16 - ETA: 15 - ETA: 14 - ETA: 13 - ETA: 13 - ETA: 12 - ETA: 11 - ETA: 10 - ETA: 10 - ETA: 9 - ETA:  - ETA:  - ETA:  - ETA:  - ETA:  - ETA:  - ETA:  - ETA:  - ETA:  - ETA:  - ETA:  - ETA:  - 36s 725ms/step\n"
     ]
    }
   ],
   "source": [
    "model.load_weights('drving_gta_nvidia.hdf5')\n",
    "(eval_loss, eval_accuracy) = model.evaluate_generator(my_generator(X_test, y_test, BATCH_SIZE, False),steps = N_TEST // BATCH_SIZE, verbose=1)"
   ]
  },
  {
   "cell_type": "code",
   "execution_count": 804,
   "metadata": {},
   "outputs": [
    {
     "name": "stdout",
     "output_type": "stream",
     "text": [
      "Test Accuracy: 0.8208000254631043%\n"
     ]
    }
   ],
   "source": [
    "print(\"Test Accuracy: {}%\".format(eval_accuracy))"
   ]
  },
  {
   "cell_type": "code",
   "execution_count": null,
   "metadata": {},
   "outputs": [],
   "source": [
    "predictions = model.predict_generator(my_generator(X_test, y_test, BATCH_SIZE, False),steps = N_TEST // BATCH_SIZE, verbose=1)\n",
    "predictions"
   ]
  },
  {
   "cell_type": "markdown",
   "metadata": {},
   "source": [
    "## InceptionV3\n",
    "Min 75x75"
   ]
  },
  {
   "cell_type": "code",
   "execution_count": 48,
   "metadata": {},
   "outputs": [
    {
     "ename": "ValueError",
     "evalue": "Input size must be at least 75x75; got `input_shape=(60, 107, 1)`",
     "output_type": "error",
     "traceback": [
      "\u001b[1;31m---------------------------------------------------------------------------\u001b[0m",
      "\u001b[1;31mValueError\u001b[0m                                Traceback (most recent call last)",
      "\u001b[1;32m<ipython-input-48-9146189091d6>\u001b[0m in \u001b[0;36m<module>\u001b[1;34m\u001b[0m\n\u001b[1;32m----> 1\u001b[1;33m \u001b[0mmodel_cnn\u001b[0m \u001b[1;33m=\u001b[0m \u001b[0mInceptionV3\u001b[0m\u001b[1;33m(\u001b[0m\u001b[0mweights\u001b[0m\u001b[1;33m=\u001b[0m\u001b[1;32mNone\u001b[0m\u001b[1;33m,\u001b[0m \u001b[0minclude_top\u001b[0m\u001b[1;33m=\u001b[0m\u001b[1;32mFalse\u001b[0m\u001b[1;33m,\u001b[0m \u001b[0minput_shape\u001b[0m\u001b[1;33m=\u001b[0m\u001b[1;33m(\u001b[0m\u001b[0mHEIGHT\u001b[0m\u001b[1;33m,\u001b[0m \u001b[0mWIDTH\u001b[0m\u001b[1;33m,\u001b[0m \u001b[0mCHANNEL\u001b[0m\u001b[1;33m)\u001b[0m\u001b[1;33m)\u001b[0m\u001b[1;33m\u001b[0m\u001b[1;33m\u001b[0m\u001b[0m\n\u001b[0m\u001b[0;32m      2\u001b[0m \u001b[0mmodel_top\u001b[0m \u001b[1;33m=\u001b[0m \u001b[0mSequential\u001b[0m\u001b[1;33m(\u001b[0m\u001b[1;33m)\u001b[0m\u001b[1;33m\u001b[0m\u001b[1;33m\u001b[0m\u001b[0m\n\u001b[0;32m      3\u001b[0m \u001b[0mmodel_top\u001b[0m\u001b[1;33m.\u001b[0m\u001b[0madd\u001b[0m\u001b[1;33m(\u001b[0m\u001b[0mGlobalAveragePooling2D\u001b[0m\u001b[1;33m(\u001b[0m\u001b[0minput_shape\u001b[0m \u001b[1;33m=\u001b[0m \u001b[0mmodel_cnn\u001b[0m\u001b[1;33m.\u001b[0m\u001b[0moutput_shape\u001b[0m\u001b[1;33m[\u001b[0m\u001b[1;36m1\u001b[0m\u001b[1;33m:\u001b[0m\u001b[1;33m]\u001b[0m\u001b[1;33m,\u001b[0m \u001b[0mdata_format\u001b[0m\u001b[1;33m=\u001b[0m\u001b[1;32mNone\u001b[0m\u001b[1;33m)\u001b[0m\u001b[1;33m)\u001b[0m\u001b[1;33m\u001b[0m\u001b[1;33m\u001b[0m\u001b[0m\n\u001b[0;32m      4\u001b[0m \u001b[0mmodel_top\u001b[0m\u001b[1;33m.\u001b[0m\u001b[0madd\u001b[0m\u001b[1;33m(\u001b[0m\u001b[0mDense\u001b[0m\u001b[1;33m(\u001b[0m\u001b[1;36m256\u001b[0m\u001b[1;33m,\u001b[0m \u001b[0mactivation\u001b[0m\u001b[1;33m=\u001b[0m\u001b[1;34m'relu'\u001b[0m\u001b[1;33m)\u001b[0m\u001b[1;33m)\u001b[0m\u001b[1;33m\u001b[0m\u001b[1;33m\u001b[0m\u001b[0m\n\u001b[0;32m      5\u001b[0m \u001b[0mmodel_top\u001b[0m\u001b[1;33m.\u001b[0m\u001b[0madd\u001b[0m\u001b[1;33m(\u001b[0m\u001b[0mDropout\u001b[0m\u001b[1;33m(\u001b[0m\u001b[1;36m0.5\u001b[0m\u001b[1;33m)\u001b[0m\u001b[1;33m)\u001b[0m\u001b[1;33m\u001b[0m\u001b[1;33m\u001b[0m\u001b[0m\n",
      "\u001b[1;32m~\\Anaconda3\\envs\\tensorflow-sessions\\lib\\site-packages\\keras\\applications\\__init__.py\u001b[0m in \u001b[0;36mwrapper\u001b[1;34m(*args, **kwargs)\u001b[0m\n\u001b[0;32m     26\u001b[0m             \u001b[0mkwargs\u001b[0m\u001b[1;33m[\u001b[0m\u001b[1;34m'models'\u001b[0m\u001b[1;33m]\u001b[0m \u001b[1;33m=\u001b[0m \u001b[0mmodels\u001b[0m\u001b[1;33m\u001b[0m\u001b[1;33m\u001b[0m\u001b[0m\n\u001b[0;32m     27\u001b[0m             \u001b[0mkwargs\u001b[0m\u001b[1;33m[\u001b[0m\u001b[1;34m'utils'\u001b[0m\u001b[1;33m]\u001b[0m \u001b[1;33m=\u001b[0m \u001b[0mutils\u001b[0m\u001b[1;33m\u001b[0m\u001b[1;33m\u001b[0m\u001b[0m\n\u001b[1;32m---> 28\u001b[1;33m         \u001b[1;32mreturn\u001b[0m \u001b[0mbase_fun\u001b[0m\u001b[1;33m(\u001b[0m\u001b[1;33m*\u001b[0m\u001b[0margs\u001b[0m\u001b[1;33m,\u001b[0m \u001b[1;33m**\u001b[0m\u001b[0mkwargs\u001b[0m\u001b[1;33m)\u001b[0m\u001b[1;33m\u001b[0m\u001b[1;33m\u001b[0m\u001b[0m\n\u001b[0m\u001b[0;32m     29\u001b[0m \u001b[1;33m\u001b[0m\u001b[0m\n\u001b[0;32m     30\u001b[0m     \u001b[1;32mreturn\u001b[0m \u001b[0mwrapper\u001b[0m\u001b[1;33m\u001b[0m\u001b[1;33m\u001b[0m\u001b[0m\n",
      "\u001b[1;32m~\\Anaconda3\\envs\\tensorflow-sessions\\lib\\site-packages\\keras\\applications\\inception_v3.py\u001b[0m in \u001b[0;36mInceptionV3\u001b[1;34m(*args, **kwargs)\u001b[0m\n\u001b[0;32m      9\u001b[0m \u001b[1;33m@\u001b[0m\u001b[0mkeras_modules_injection\u001b[0m\u001b[1;33m\u001b[0m\u001b[1;33m\u001b[0m\u001b[0m\n\u001b[0;32m     10\u001b[0m \u001b[1;32mdef\u001b[0m \u001b[0mInceptionV3\u001b[0m\u001b[1;33m(\u001b[0m\u001b[1;33m*\u001b[0m\u001b[0margs\u001b[0m\u001b[1;33m,\u001b[0m \u001b[1;33m**\u001b[0m\u001b[0mkwargs\u001b[0m\u001b[1;33m)\u001b[0m\u001b[1;33m:\u001b[0m\u001b[1;33m\u001b[0m\u001b[1;33m\u001b[0m\u001b[0m\n\u001b[1;32m---> 11\u001b[1;33m     \u001b[1;32mreturn\u001b[0m \u001b[0minception_v3\u001b[0m\u001b[1;33m.\u001b[0m\u001b[0mInceptionV3\u001b[0m\u001b[1;33m(\u001b[0m\u001b[1;33m*\u001b[0m\u001b[0margs\u001b[0m\u001b[1;33m,\u001b[0m \u001b[1;33m**\u001b[0m\u001b[0mkwargs\u001b[0m\u001b[1;33m)\u001b[0m\u001b[1;33m\u001b[0m\u001b[1;33m\u001b[0m\u001b[0m\n\u001b[0m\u001b[0;32m     12\u001b[0m \u001b[1;33m\u001b[0m\u001b[0m\n\u001b[0;32m     13\u001b[0m \u001b[1;33m\u001b[0m\u001b[0m\n",
      "\u001b[1;32m~\\Anaconda3\\envs\\tensorflow-sessions\\lib\\site-packages\\keras_applications\\inception_v3.py\u001b[0m in \u001b[0;36mInceptionV3\u001b[1;34m(include_top, weights, input_tensor, input_shape, pooling, classes, **kwargs)\u001b[0m\n\u001b[0;32m    152\u001b[0m         \u001b[0mdata_format\u001b[0m\u001b[1;33m=\u001b[0m\u001b[0mbackend\u001b[0m\u001b[1;33m.\u001b[0m\u001b[0mimage_data_format\u001b[0m\u001b[1;33m(\u001b[0m\u001b[1;33m)\u001b[0m\u001b[1;33m,\u001b[0m\u001b[1;33m\u001b[0m\u001b[1;33m\u001b[0m\u001b[0m\n\u001b[0;32m    153\u001b[0m         \u001b[0mrequire_flatten\u001b[0m\u001b[1;33m=\u001b[0m\u001b[1;32mFalse\u001b[0m\u001b[1;33m,\u001b[0m\u001b[1;33m\u001b[0m\u001b[1;33m\u001b[0m\u001b[0m\n\u001b[1;32m--> 154\u001b[1;33m         weights=weights)\n\u001b[0m\u001b[0;32m    155\u001b[0m \u001b[1;33m\u001b[0m\u001b[0m\n\u001b[0;32m    156\u001b[0m     \u001b[1;32mif\u001b[0m \u001b[0minput_tensor\u001b[0m \u001b[1;32mis\u001b[0m \u001b[1;32mNone\u001b[0m\u001b[1;33m:\u001b[0m\u001b[1;33m\u001b[0m\u001b[1;33m\u001b[0m\u001b[0m\n",
      "\u001b[1;32m~\\Anaconda3\\envs\\tensorflow-sessions\\lib\\site-packages\\keras_applications\\imagenet_utils.py\u001b[0m in \u001b[0;36m_obtain_input_shape\u001b[1;34m(input_shape, default_size, min_size, data_format, require_flatten, weights)\u001b[0m\n\u001b[0;32m    320\u001b[0m                                      \u001b[0mstr\u001b[0m\u001b[1;33m(\u001b[0m\u001b[0mmin_size\u001b[0m\u001b[1;33m)\u001b[0m \u001b[1;33m+\u001b[0m \u001b[1;34m'x'\u001b[0m \u001b[1;33m+\u001b[0m \u001b[0mstr\u001b[0m\u001b[1;33m(\u001b[0m\u001b[0mmin_size\u001b[0m\u001b[1;33m)\u001b[0m \u001b[1;33m+\u001b[0m\u001b[1;33m\u001b[0m\u001b[1;33m\u001b[0m\u001b[0m\n\u001b[0;32m    321\u001b[0m                                      \u001b[1;34m'; got `input_shape='\u001b[0m \u001b[1;33m+\u001b[0m\u001b[1;33m\u001b[0m\u001b[1;33m\u001b[0m\u001b[0m\n\u001b[1;32m--> 322\u001b[1;33m                                      str(input_shape) + '`')\n\u001b[0m\u001b[0;32m    323\u001b[0m     \u001b[1;32melse\u001b[0m\u001b[1;33m:\u001b[0m\u001b[1;33m\u001b[0m\u001b[1;33m\u001b[0m\u001b[0m\n\u001b[0;32m    324\u001b[0m         \u001b[1;32mif\u001b[0m \u001b[0mrequire_flatten\u001b[0m\u001b[1;33m:\u001b[0m\u001b[1;33m\u001b[0m\u001b[1;33m\u001b[0m\u001b[0m\n",
      "\u001b[1;31mValueError\u001b[0m: Input size must be at least 75x75; got `input_shape=(60, 107, 1)`"
     ]
    }
   ],
   "source": [
    "model_cnn = InceptionV3(weights=None, include_top=False, input_shape=(HEIGHT, WIDTH, CHANNEL))\n",
    "model_top = Sequential()\n",
    "model_top.add(GlobalAveragePooling2D(input_shape = model_cnn.output_shape[1:], data_format=None))\n",
    "model_top.add(Dense(256, activation='relu'))\n",
    "model_top.add(Dropout(0.5))\n",
    "model_top.add(Dense(5, activation='softmax'))\n",
    "\n",
    "model = Model(inputs=model_cnn.input, outputs=model_top(model_cnn.output))\n",
    "adam = Adam(lr=0.0001, beta_1=0.9, beta_2=0.999, epsilon=1e-08, decay=0.0)\n",
    "model.compile(optimizer=adam, loss='categorical_crossentropy', metrics=['accuracy'])\n",
    "print(model.summary())"
   ]
  },
  {
   "cell_type": "markdown",
   "metadata": {},
   "source": [
    "## DenseNet\n",
    "Must 3 Channels"
   ]
  },
  {
   "cell_type": "code",
   "execution_count": 49,
   "metadata": {},
   "outputs": [
    {
     "ename": "ValueError",
     "evalue": "The input must have 3 channels; got `input_shape=(60, 107, 1)`",
     "output_type": "error",
     "traceback": [
      "\u001b[1;31m---------------------------------------------------------------------------\u001b[0m",
      "\u001b[1;31mValueError\u001b[0m                                Traceback (most recent call last)",
      "\u001b[1;32m<ipython-input-49-5fa4e79c968a>\u001b[0m in \u001b[0;36m<module>\u001b[1;34m\u001b[0m\n\u001b[1;32m----> 1\u001b[1;33m \u001b[0mcnn_model\u001b[0m \u001b[1;33m=\u001b[0m \u001b[0mDenseNet121\u001b[0m\u001b[1;33m(\u001b[0m\u001b[0mweights\u001b[0m\u001b[1;33m=\u001b[0m \u001b[1;34m'imagenet'\u001b[0m\u001b[1;33m,\u001b[0m \u001b[0minclude_top\u001b[0m\u001b[1;33m=\u001b[0m\u001b[1;32mFalse\u001b[0m\u001b[1;33m,\u001b[0m \u001b[0minput_shape\u001b[0m\u001b[1;33m=\u001b[0m\u001b[1;33m(\u001b[0m\u001b[0mHEIGHT\u001b[0m\u001b[1;33m,\u001b[0m \u001b[0mWIDTH\u001b[0m\u001b[1;33m,\u001b[0m \u001b[0mCHANNEL\u001b[0m\u001b[1;33m)\u001b[0m\u001b[1;33m)\u001b[0m\u001b[1;33m\u001b[0m\u001b[1;33m\u001b[0m\u001b[0m\n\u001b[0m\u001b[0;32m      2\u001b[0m \u001b[0mfull_model\u001b[0m \u001b[1;33m=\u001b[0m \u001b[0mcnn_model\u001b[0m\u001b[1;33m.\u001b[0m\u001b[0moutput\u001b[0m\u001b[1;33m\u001b[0m\u001b[1;33m\u001b[0m\u001b[0m\n\u001b[0;32m      3\u001b[0m \u001b[0mfull_model\u001b[0m \u001b[1;33m=\u001b[0m \u001b[0mDropout\u001b[0m\u001b[1;33m(\u001b[0m\u001b[1;36m0.5\u001b[0m\u001b[1;33m)\u001b[0m\u001b[1;33m(\u001b[0m\u001b[0mfull_model\u001b[0m\u001b[1;33m)\u001b[0m\u001b[1;33m\u001b[0m\u001b[1;33m\u001b[0m\u001b[0m\n\u001b[0;32m      4\u001b[0m \u001b[0mfull_model\u001b[0m \u001b[1;33m=\u001b[0m \u001b[0mGlobalAveragePooling2D\u001b[0m\u001b[1;33m(\u001b[0m\u001b[1;33m)\u001b[0m\u001b[1;33m(\u001b[0m\u001b[0mfull_model\u001b[0m\u001b[1;33m)\u001b[0m\u001b[1;33m\u001b[0m\u001b[1;33m\u001b[0m\u001b[0m\n\u001b[0;32m      5\u001b[0m \u001b[0mfull_model\u001b[0m \u001b[1;33m=\u001b[0m \u001b[0mDense\u001b[0m\u001b[1;33m(\u001b[0m\u001b[1;36m256\u001b[0m\u001b[1;33m,\u001b[0m \u001b[0mactivation\u001b[0m\u001b[1;33m=\u001b[0m\u001b[1;34m'relu'\u001b[0m\u001b[1;33m)\u001b[0m\u001b[1;33m(\u001b[0m\u001b[0mfull_model\u001b[0m\u001b[1;33m)\u001b[0m\u001b[1;33m\u001b[0m\u001b[1;33m\u001b[0m\u001b[0m\n",
      "\u001b[1;32m~\\Anaconda3\\envs\\tensorflow-sessions\\lib\\site-packages\\keras\\applications\\__init__.py\u001b[0m in \u001b[0;36mwrapper\u001b[1;34m(*args, **kwargs)\u001b[0m\n\u001b[0;32m     26\u001b[0m             \u001b[0mkwargs\u001b[0m\u001b[1;33m[\u001b[0m\u001b[1;34m'models'\u001b[0m\u001b[1;33m]\u001b[0m \u001b[1;33m=\u001b[0m \u001b[0mmodels\u001b[0m\u001b[1;33m\u001b[0m\u001b[1;33m\u001b[0m\u001b[0m\n\u001b[0;32m     27\u001b[0m             \u001b[0mkwargs\u001b[0m\u001b[1;33m[\u001b[0m\u001b[1;34m'utils'\u001b[0m\u001b[1;33m]\u001b[0m \u001b[1;33m=\u001b[0m \u001b[0mutils\u001b[0m\u001b[1;33m\u001b[0m\u001b[1;33m\u001b[0m\u001b[0m\n\u001b[1;32m---> 28\u001b[1;33m         \u001b[1;32mreturn\u001b[0m \u001b[0mbase_fun\u001b[0m\u001b[1;33m(\u001b[0m\u001b[1;33m*\u001b[0m\u001b[0margs\u001b[0m\u001b[1;33m,\u001b[0m \u001b[1;33m**\u001b[0m\u001b[0mkwargs\u001b[0m\u001b[1;33m)\u001b[0m\u001b[1;33m\u001b[0m\u001b[1;33m\u001b[0m\u001b[0m\n\u001b[0m\u001b[0;32m     29\u001b[0m \u001b[1;33m\u001b[0m\u001b[0m\n\u001b[0;32m     30\u001b[0m     \u001b[1;32mreturn\u001b[0m \u001b[0mwrapper\u001b[0m\u001b[1;33m\u001b[0m\u001b[1;33m\u001b[0m\u001b[0m\n",
      "\u001b[1;32m~\\Anaconda3\\envs\\tensorflow-sessions\\lib\\site-packages\\keras\\applications\\densenet.py\u001b[0m in \u001b[0;36mDenseNet121\u001b[1;34m(*args, **kwargs)\u001b[0m\n\u001b[0;32m      9\u001b[0m \u001b[1;33m@\u001b[0m\u001b[0mkeras_modules_injection\u001b[0m\u001b[1;33m\u001b[0m\u001b[1;33m\u001b[0m\u001b[0m\n\u001b[0;32m     10\u001b[0m \u001b[1;32mdef\u001b[0m \u001b[0mDenseNet121\u001b[0m\u001b[1;33m(\u001b[0m\u001b[1;33m*\u001b[0m\u001b[0margs\u001b[0m\u001b[1;33m,\u001b[0m \u001b[1;33m**\u001b[0m\u001b[0mkwargs\u001b[0m\u001b[1;33m)\u001b[0m\u001b[1;33m:\u001b[0m\u001b[1;33m\u001b[0m\u001b[1;33m\u001b[0m\u001b[0m\n\u001b[1;32m---> 11\u001b[1;33m     \u001b[1;32mreturn\u001b[0m \u001b[0mdensenet\u001b[0m\u001b[1;33m.\u001b[0m\u001b[0mDenseNet121\u001b[0m\u001b[1;33m(\u001b[0m\u001b[1;33m*\u001b[0m\u001b[0margs\u001b[0m\u001b[1;33m,\u001b[0m \u001b[1;33m**\u001b[0m\u001b[0mkwargs\u001b[0m\u001b[1;33m)\u001b[0m\u001b[1;33m\u001b[0m\u001b[1;33m\u001b[0m\u001b[0m\n\u001b[0m\u001b[0;32m     12\u001b[0m \u001b[1;33m\u001b[0m\u001b[0m\n\u001b[0;32m     13\u001b[0m \u001b[1;33m\u001b[0m\u001b[0m\n",
      "\u001b[1;32m~\\Anaconda3\\envs\\tensorflow-sessions\\lib\\site-packages\\keras_applications\\densenet.py\u001b[0m in \u001b[0;36mDenseNet121\u001b[1;34m(include_top, weights, input_tensor, input_shape, pooling, classes, **kwargs)\u001b[0m\n\u001b[0;32m    309\u001b[0m                     \u001b[0minput_tensor\u001b[0m\u001b[1;33m,\u001b[0m \u001b[0minput_shape\u001b[0m\u001b[1;33m,\u001b[0m\u001b[1;33m\u001b[0m\u001b[1;33m\u001b[0m\u001b[0m\n\u001b[0;32m    310\u001b[0m                     \u001b[0mpooling\u001b[0m\u001b[1;33m,\u001b[0m \u001b[0mclasses\u001b[0m\u001b[1;33m,\u001b[0m\u001b[1;33m\u001b[0m\u001b[1;33m\u001b[0m\u001b[0m\n\u001b[1;32m--> 311\u001b[1;33m                     **kwargs)\n\u001b[0m\u001b[0;32m    312\u001b[0m \u001b[1;33m\u001b[0m\u001b[0m\n\u001b[0;32m    313\u001b[0m \u001b[1;33m\u001b[0m\u001b[0m\n",
      "\u001b[1;32m~\\Anaconda3\\envs\\tensorflow-sessions\\lib\\site-packages\\keras_applications\\densenet.py\u001b[0m in \u001b[0;36mDenseNet\u001b[1;34m(blocks, include_top, weights, input_tensor, input_shape, pooling, classes, **kwargs)\u001b[0m\n\u001b[0;32m    193\u001b[0m                                       \u001b[0mdata_format\u001b[0m\u001b[1;33m=\u001b[0m\u001b[0mbackend\u001b[0m\u001b[1;33m.\u001b[0m\u001b[0mimage_data_format\u001b[0m\u001b[1;33m(\u001b[0m\u001b[1;33m)\u001b[0m\u001b[1;33m,\u001b[0m\u001b[1;33m\u001b[0m\u001b[1;33m\u001b[0m\u001b[0m\n\u001b[0;32m    194\u001b[0m                                       \u001b[0mrequire_flatten\u001b[0m\u001b[1;33m=\u001b[0m\u001b[0minclude_top\u001b[0m\u001b[1;33m,\u001b[0m\u001b[1;33m\u001b[0m\u001b[1;33m\u001b[0m\u001b[0m\n\u001b[1;32m--> 195\u001b[1;33m                                       weights=weights)\n\u001b[0m\u001b[0;32m    196\u001b[0m \u001b[1;33m\u001b[0m\u001b[0m\n\u001b[0;32m    197\u001b[0m     \u001b[1;32mif\u001b[0m \u001b[0minput_tensor\u001b[0m \u001b[1;32mis\u001b[0m \u001b[1;32mNone\u001b[0m\u001b[1;33m:\u001b[0m\u001b[1;33m\u001b[0m\u001b[1;33m\u001b[0m\u001b[0m\n",
      "\u001b[1;32m~\\Anaconda3\\envs\\tensorflow-sessions\\lib\\site-packages\\keras_applications\\imagenet_utils.py\u001b[0m in \u001b[0;36m_obtain_input_shape\u001b[1;34m(input_shape, default_size, min_size, data_format, require_flatten, weights)\u001b[0m\n\u001b[0;32m    314\u001b[0m                 \u001b[1;32mif\u001b[0m \u001b[0minput_shape\u001b[0m\u001b[1;33m[\u001b[0m\u001b[1;33m-\u001b[0m\u001b[1;36m1\u001b[0m\u001b[1;33m]\u001b[0m \u001b[1;33m!=\u001b[0m \u001b[1;36m3\u001b[0m \u001b[1;32mand\u001b[0m \u001b[0mweights\u001b[0m \u001b[1;33m==\u001b[0m \u001b[1;34m'imagenet'\u001b[0m\u001b[1;33m:\u001b[0m\u001b[1;33m\u001b[0m\u001b[1;33m\u001b[0m\u001b[0m\n\u001b[0;32m    315\u001b[0m                     raise ValueError('The input must have 3 channels; got '\n\u001b[1;32m--> 316\u001b[1;33m                                      '`input_shape=' + str(input_shape) + '`')\n\u001b[0m\u001b[0;32m    317\u001b[0m                 if ((input_shape[0] is not None and input_shape[0] < min_size) or\n\u001b[0;32m    318\u001b[0m                    (input_shape[1] is not None and input_shape[1] < min_size)):\n",
      "\u001b[1;31mValueError\u001b[0m: The input must have 3 channels; got `input_shape=(60, 107, 1)`"
     ]
    }
   ],
   "source": [
    "cnn_model = DenseNet121(weights= 'imagenet', include_top=False, input_shape=(HEIGHT, WIDTH, CHANNEL))\n",
    "full_model = cnn_model.output\n",
    "full_model = Dropout(0.5)(full_model)\n",
    "full_model = GlobalAveragePooling2D()(full_model)\n",
    "full_model = Dense(256, activation='relu')(full_model)\n",
    "full_model = BatchNormalization()(full_model)\n",
    "predictions = Dense(n_classes, activation='sigmoid')(full_model)\n",
    "\n",
    "model = Model(inputs=cnn_model.input, outputs=predictions)\n",
    "model.compile(loss='categorical_crossentropy', optimizer='adam', metrics=['accuracy'])\n",
    "print(model.summary())"
   ]
  },
  {
   "cell_type": "markdown",
   "metadata": {},
   "source": [
    "## AlexNet"
   ]
  },
  {
   "cell_type": "code",
   "execution_count": 54,
   "metadata": {},
   "outputs": [
    {
     "name": "stdout",
     "output_type": "stream",
     "text": [
      "_________________________________________________________________\n",
      "Layer (type)                 Output Shape              Param #   \n",
      "=================================================================\n",
      "conv2d_31 (Conv2D)           (None, 60, 107, 96)       11712     \n",
      "_________________________________________________________________\n",
      "batch_normalization_34 (Batc (None, 60, 107, 96)       384       \n",
      "_________________________________________________________________\n",
      "activation_38 (Activation)   (None, 60, 107, 96)       0         \n",
      "_________________________________________________________________\n",
      "max_pooling2d_21 (MaxPooling (None, 30, 53, 96)        0         \n",
      "_________________________________________________________________\n",
      "conv2d_32 (Conv2D)           (None, 30, 53, 256)       614656    \n",
      "_________________________________________________________________\n",
      "batch_normalization_35 (Batc (None, 30, 53, 256)       1024      \n",
      "_________________________________________________________________\n",
      "activation_39 (Activation)   (None, 30, 53, 256)       0         \n",
      "_________________________________________________________________\n",
      "max_pooling2d_22 (MaxPooling (None, 15, 26, 256)       0         \n",
      "_________________________________________________________________\n",
      "zero_padding2d_7 (ZeroPaddin (None, 17, 28, 256)       0         \n",
      "_________________________________________________________________\n",
      "conv2d_33 (Conv2D)           (None, 17, 28, 512)       1180160   \n",
      "_________________________________________________________________\n",
      "batch_normalization_36 (Batc (None, 17, 28, 512)       2048      \n",
      "_________________________________________________________________\n",
      "activation_40 (Activation)   (None, 17, 28, 512)       0         \n",
      "_________________________________________________________________\n",
      "max_pooling2d_23 (MaxPooling (None, 8, 14, 512)        0         \n",
      "_________________________________________________________________\n",
      "zero_padding2d_8 (ZeroPaddin (None, 10, 16, 512)       0         \n",
      "_________________________________________________________________\n",
      "conv2d_34 (Conv2D)           (None, 10, 16, 1024)      4719616   \n",
      "_________________________________________________________________\n",
      "batch_normalization_37 (Batc (None, 10, 16, 1024)      4096      \n",
      "_________________________________________________________________\n",
      "activation_41 (Activation)   (None, 10, 16, 1024)      0         \n",
      "_________________________________________________________________\n",
      "zero_padding2d_9 (ZeroPaddin (None, 12, 18, 1024)      0         \n",
      "_________________________________________________________________\n",
      "conv2d_35 (Conv2D)           (None, 12, 18, 1024)      9438208   \n",
      "_________________________________________________________________\n",
      "batch_normalization_38 (Batc (None, 12, 18, 1024)      4096      \n",
      "_________________________________________________________________\n",
      "activation_42 (Activation)   (None, 12, 18, 1024)      0         \n",
      "_________________________________________________________________\n",
      "max_pooling2d_24 (MaxPooling (None, 6, 9, 1024)        0         \n",
      "_________________________________________________________________\n",
      "flatten_5 (Flatten)          (None, 55296)             0         \n",
      "_________________________________________________________________\n",
      "dense_13 (Dense)             (None, 3072)              169872384 \n",
      "_________________________________________________________________\n",
      "batch_normalization_39 (Batc (None, 3072)              12288     \n",
      "_________________________________________________________________\n",
      "activation_43 (Activation)   (None, 3072)              0         \n",
      "_________________________________________________________________\n",
      "dropout_10 (Dropout)         (None, 3072)              0         \n",
      "_________________________________________________________________\n",
      "dense_14 (Dense)             (None, 4096)              12587008  \n",
      "_________________________________________________________________\n",
      "batch_normalization_40 (Batc (None, 4096)              16384     \n",
      "_________________________________________________________________\n",
      "activation_44 (Activation)   (None, 4096)              0         \n",
      "_________________________________________________________________\n",
      "dropout_11 (Dropout)         (None, 4096)              0         \n",
      "_________________________________________________________________\n",
      "dense_15 (Dense)             (None, 5)                 20485     \n",
      "_________________________________________________________________\n",
      "batch_normalization_41 (Batc (None, 5)                 20        \n",
      "_________________________________________________________________\n",
      "activation_45 (Activation)   (None, 5)                 0         \n",
      "=================================================================\n",
      "Total params: 198,484,569\n",
      "Trainable params: 198,464,399\n",
      "Non-trainable params: 20,170\n",
      "_________________________________________________________________\n",
      "None\n"
     ]
    }
   ],
   "source": [
    "# Initialize model\n",
    "alexnet = Sequential()\n",
    "\n",
    "# Layer 1\n",
    "alexnet.add(Conv2D(96, (11, 11), input_shape=(HEIGHT, WIDTH, CHANNEL), padding='same'))\n",
    "alexnet.add(BatchNormalization())\n",
    "alexnet.add(Activation('relu'))\n",
    "alexnet.add(MaxPooling2D(pool_size=(2, 2)))\n",
    "\n",
    "# Layer 2\n",
    "alexnet.add(Conv2D(256, (5, 5), padding='same'))\n",
    "alexnet.add(BatchNormalization())\n",
    "alexnet.add(Activation('relu'))\n",
    "alexnet.add(MaxPooling2D(pool_size=(2, 2)))\n",
    "\n",
    "# Layer 3\n",
    "alexnet.add(ZeroPadding2D((1, 1)))\n",
    "alexnet.add(Conv2D(512, (3, 3), padding='same'))\n",
    "alexnet.add(BatchNormalization())\n",
    "alexnet.add(Activation('relu'))\n",
    "alexnet.add(MaxPooling2D(pool_size=(2, 2)))\n",
    "\n",
    "# Layer 4\n",
    "alexnet.add(ZeroPadding2D((1, 1)))\n",
    "alexnet.add(Conv2D(1024, (3, 3), padding='same'))\n",
    "alexnet.add(BatchNormalization())\n",
    "alexnet.add(Activation('relu'))\n",
    "\n",
    "# Layer 5\n",
    "alexnet.add(ZeroPadding2D((1, 1)))\n",
    "alexnet.add(Conv2D(1024, (3, 3), padding='same'))\n",
    "alexnet.add(BatchNormalization())\n",
    "alexnet.add(Activation('relu'))\n",
    "alexnet.add(MaxPooling2D(pool_size=(2, 2)))\n",
    "\n",
    "# Layer 6\n",
    "alexnet.add(Flatten())\n",
    "alexnet.add(Dense(3072))\n",
    "alexnet.add(BatchNormalization())\n",
    "alexnet.add(Activation('relu'))\n",
    "alexnet.add(Dropout(0.5))\n",
    "\n",
    "# Layer 7\n",
    "alexnet.add(Dense(4096))\n",
    "alexnet.add(BatchNormalization())\n",
    "alexnet.add(Activation('relu'))\n",
    "alexnet.add(Dropout(0.5))\n",
    "\n",
    "# Layer 8\n",
    "alexnet.add(Dense(5))\n",
    "alexnet.add(BatchNormalization())\n",
    "alexnet.add(Activation('softmax'))\n",
    "\n",
    "alexnet.compile(loss='categorical_crossentropy', optimizer='adam', metrics=['accuracy'])\n",
    "print(alexnet.summary())"
   ]
  },
  {
   "cell_type": "code",
   "execution_count": 56,
   "metadata": {},
   "outputs": [
    {
     "name": "stdout",
     "output_type": "stream",
     "text": [
      "WARNING:tensorflow:Issue encountered when serializing data_preprocessing.\n",
      "Type is unsupported, or the types of the items don't match field type in CollectionDef. Note this is a warning and probably safe to ignore.\n",
      "'NoneType' object has no attribute 'name'\n",
      "WARNING:tensorflow:Issue encountered when serializing data_augmentation.\n",
      "Type is unsupported, or the types of the items don't match field type in CollectionDef. Note this is a warning and probably safe to ignore.\n",
      "'NoneType' object has no attribute 'name'\n",
      "WARNING:tensorflow:Issue encountered when serializing summary_tags.\n",
      "Type is unsupported, or the types of the items don't match field type in CollectionDef. Note this is a warning and probably safe to ignore.\n",
      "'dict' object has no attribute 'name'\n",
      "Epoch 1/2\n",
      " 1/91 [..............................] - ETA: 1:35:02 - loss: 1.4260 - acc: 0.3333"
     ]
    },
    {
     "ename": "KeyboardInterrupt",
     "evalue": "",
     "output_type": "error",
     "traceback": [
      "\u001b[1;31m---------------------------------------------------------------------------\u001b[0m",
      "\u001b[1;31mKeyboardInterrupt\u001b[0m                         Traceback (most recent call last)",
      "\u001b[1;32m<ipython-input-56-6a932cf536e6>\u001b[0m in \u001b[0;36m<module>\u001b[1;34m\u001b[0m\n\u001b[0;32m     23\u001b[0m                                   \u001b[0mverbose\u001b[0m\u001b[1;33m=\u001b[0m\u001b[1;36m1\u001b[0m\u001b[1;33m,\u001b[0m\u001b[1;33m\u001b[0m\u001b[1;33m\u001b[0m\u001b[0m\n\u001b[0;32m     24\u001b[0m                                   \u001b[0mcallbacks\u001b[0m\u001b[1;33m=\u001b[0m\u001b[1;33m[\u001b[0m\u001b[0mtensorboard\u001b[0m\u001b[1;33m,\u001b[0m \u001b[0mLearningRateScheduler\u001b[0m\u001b[1;33m(\u001b[0m\u001b[0mlr_schedule\u001b[0m\u001b[1;33m)\u001b[0m\u001b[1;33m,\u001b[0m \u001b[0mcheckpointer\u001b[0m\u001b[1;33m]\u001b[0m\u001b[1;33m,\u001b[0m\u001b[1;33m\u001b[0m\u001b[1;33m\u001b[0m\u001b[0m\n\u001b[1;32m---> 25\u001b[1;33m                                   shuffle = 1)\n\u001b[0m\u001b[0;32m     26\u001b[0m \u001b[1;33m\u001b[0m\u001b[0m\n\u001b[0;32m     27\u001b[0m \u001b[1;31m# # Saving\u001b[0m\u001b[1;33m\u001b[0m\u001b[1;33m\u001b[0m\u001b[1;33m\u001b[0m\u001b[0m\n",
      "\u001b[1;32m~\\Anaconda3\\envs\\tensorflow-sessions\\lib\\site-packages\\keras\\legacy\\interfaces.py\u001b[0m in \u001b[0;36mwrapper\u001b[1;34m(*args, **kwargs)\u001b[0m\n\u001b[0;32m     89\u001b[0m                 warnings.warn('Update your `' + object_name + '` call to the ' +\n\u001b[0;32m     90\u001b[0m                               'Keras 2 API: ' + signature, stacklevel=2)\n\u001b[1;32m---> 91\u001b[1;33m             \u001b[1;32mreturn\u001b[0m \u001b[0mfunc\u001b[0m\u001b[1;33m(\u001b[0m\u001b[1;33m*\u001b[0m\u001b[0margs\u001b[0m\u001b[1;33m,\u001b[0m \u001b[1;33m**\u001b[0m\u001b[0mkwargs\u001b[0m\u001b[1;33m)\u001b[0m\u001b[1;33m\u001b[0m\u001b[1;33m\u001b[0m\u001b[0m\n\u001b[0m\u001b[0;32m     92\u001b[0m         \u001b[0mwrapper\u001b[0m\u001b[1;33m.\u001b[0m\u001b[0m_original_function\u001b[0m \u001b[1;33m=\u001b[0m \u001b[0mfunc\u001b[0m\u001b[1;33m\u001b[0m\u001b[1;33m\u001b[0m\u001b[0m\n\u001b[0;32m     93\u001b[0m         \u001b[1;32mreturn\u001b[0m \u001b[0mwrapper\u001b[0m\u001b[1;33m\u001b[0m\u001b[1;33m\u001b[0m\u001b[0m\n",
      "\u001b[1;32m~\\Anaconda3\\envs\\tensorflow-sessions\\lib\\site-packages\\keras\\engine\\training.py\u001b[0m in \u001b[0;36mfit_generator\u001b[1;34m(self, generator, steps_per_epoch, epochs, verbose, callbacks, validation_data, validation_steps, class_weight, max_queue_size, workers, use_multiprocessing, shuffle, initial_epoch)\u001b[0m\n\u001b[0;32m   1416\u001b[0m             \u001b[0muse_multiprocessing\u001b[0m\u001b[1;33m=\u001b[0m\u001b[0muse_multiprocessing\u001b[0m\u001b[1;33m,\u001b[0m\u001b[1;33m\u001b[0m\u001b[1;33m\u001b[0m\u001b[0m\n\u001b[0;32m   1417\u001b[0m             \u001b[0mshuffle\u001b[0m\u001b[1;33m=\u001b[0m\u001b[0mshuffle\u001b[0m\u001b[1;33m,\u001b[0m\u001b[1;33m\u001b[0m\u001b[1;33m\u001b[0m\u001b[0m\n\u001b[1;32m-> 1418\u001b[1;33m             initial_epoch=initial_epoch)\n\u001b[0m\u001b[0;32m   1419\u001b[0m \u001b[1;33m\u001b[0m\u001b[0m\n\u001b[0;32m   1420\u001b[0m     \u001b[1;33m@\u001b[0m\u001b[0minterfaces\u001b[0m\u001b[1;33m.\u001b[0m\u001b[0mlegacy_generator_methods_support\u001b[0m\u001b[1;33m\u001b[0m\u001b[1;33m\u001b[0m\u001b[0m\n",
      "\u001b[1;32m~\\Anaconda3\\envs\\tensorflow-sessions\\lib\\site-packages\\keras\\engine\\training_generator.py\u001b[0m in \u001b[0;36mfit_generator\u001b[1;34m(model, generator, steps_per_epoch, epochs, verbose, callbacks, validation_data, validation_steps, class_weight, max_queue_size, workers, use_multiprocessing, shuffle, initial_epoch)\u001b[0m\n\u001b[0;32m    215\u001b[0m                 outs = model.train_on_batch(x, y,\n\u001b[0;32m    216\u001b[0m                                             \u001b[0msample_weight\u001b[0m\u001b[1;33m=\u001b[0m\u001b[0msample_weight\u001b[0m\u001b[1;33m,\u001b[0m\u001b[1;33m\u001b[0m\u001b[1;33m\u001b[0m\u001b[0m\n\u001b[1;32m--> 217\u001b[1;33m                                             class_weight=class_weight)\n\u001b[0m\u001b[0;32m    218\u001b[0m \u001b[1;33m\u001b[0m\u001b[0m\n\u001b[0;32m    219\u001b[0m                 \u001b[0mouts\u001b[0m \u001b[1;33m=\u001b[0m \u001b[0mto_list\u001b[0m\u001b[1;33m(\u001b[0m\u001b[0mouts\u001b[0m\u001b[1;33m)\u001b[0m\u001b[1;33m\u001b[0m\u001b[1;33m\u001b[0m\u001b[0m\n",
      "\u001b[1;32m~\\Anaconda3\\envs\\tensorflow-sessions\\lib\\site-packages\\keras\\engine\\training.py\u001b[0m in \u001b[0;36mtrain_on_batch\u001b[1;34m(self, x, y, sample_weight, class_weight)\u001b[0m\n\u001b[0;32m   1215\u001b[0m             \u001b[0mins\u001b[0m \u001b[1;33m=\u001b[0m \u001b[0mx\u001b[0m \u001b[1;33m+\u001b[0m \u001b[0my\u001b[0m \u001b[1;33m+\u001b[0m \u001b[0msample_weights\u001b[0m\u001b[1;33m\u001b[0m\u001b[1;33m\u001b[0m\u001b[0m\n\u001b[0;32m   1216\u001b[0m         \u001b[0mself\u001b[0m\u001b[1;33m.\u001b[0m\u001b[0m_make_train_function\u001b[0m\u001b[1;33m(\u001b[0m\u001b[1;33m)\u001b[0m\u001b[1;33m\u001b[0m\u001b[1;33m\u001b[0m\u001b[0m\n\u001b[1;32m-> 1217\u001b[1;33m         \u001b[0moutputs\u001b[0m \u001b[1;33m=\u001b[0m \u001b[0mself\u001b[0m\u001b[1;33m.\u001b[0m\u001b[0mtrain_function\u001b[0m\u001b[1;33m(\u001b[0m\u001b[0mins\u001b[0m\u001b[1;33m)\u001b[0m\u001b[1;33m\u001b[0m\u001b[1;33m\u001b[0m\u001b[0m\n\u001b[0m\u001b[0;32m   1218\u001b[0m         \u001b[1;32mreturn\u001b[0m \u001b[0munpack_singleton\u001b[0m\u001b[1;33m(\u001b[0m\u001b[0moutputs\u001b[0m\u001b[1;33m)\u001b[0m\u001b[1;33m\u001b[0m\u001b[1;33m\u001b[0m\u001b[0m\n\u001b[0;32m   1219\u001b[0m \u001b[1;33m\u001b[0m\u001b[0m\n",
      "\u001b[1;32m~\\Anaconda3\\envs\\tensorflow-sessions\\lib\\site-packages\\keras\\backend\\tensorflow_backend.py\u001b[0m in \u001b[0;36m__call__\u001b[1;34m(self, inputs)\u001b[0m\n\u001b[0;32m   2713\u001b[0m                 \u001b[1;32mreturn\u001b[0m \u001b[0mself\u001b[0m\u001b[1;33m.\u001b[0m\u001b[0m_legacy_call\u001b[0m\u001b[1;33m(\u001b[0m\u001b[0minputs\u001b[0m\u001b[1;33m)\u001b[0m\u001b[1;33m\u001b[0m\u001b[1;33m\u001b[0m\u001b[0m\n\u001b[0;32m   2714\u001b[0m \u001b[1;33m\u001b[0m\u001b[0m\n\u001b[1;32m-> 2715\u001b[1;33m             \u001b[1;32mreturn\u001b[0m \u001b[0mself\u001b[0m\u001b[1;33m.\u001b[0m\u001b[0m_call\u001b[0m\u001b[1;33m(\u001b[0m\u001b[0minputs\u001b[0m\u001b[1;33m)\u001b[0m\u001b[1;33m\u001b[0m\u001b[1;33m\u001b[0m\u001b[0m\n\u001b[0m\u001b[0;32m   2716\u001b[0m         \u001b[1;32melse\u001b[0m\u001b[1;33m:\u001b[0m\u001b[1;33m\u001b[0m\u001b[1;33m\u001b[0m\u001b[0m\n\u001b[0;32m   2717\u001b[0m             \u001b[1;32mif\u001b[0m \u001b[0mpy_any\u001b[0m\u001b[1;33m(\u001b[0m\u001b[0mis_tensor\u001b[0m\u001b[1;33m(\u001b[0m\u001b[0mx\u001b[0m\u001b[1;33m)\u001b[0m \u001b[1;32mfor\u001b[0m \u001b[0mx\u001b[0m \u001b[1;32min\u001b[0m \u001b[0minputs\u001b[0m\u001b[1;33m)\u001b[0m\u001b[1;33m:\u001b[0m\u001b[1;33m\u001b[0m\u001b[1;33m\u001b[0m\u001b[0m\n",
      "\u001b[1;32m~\\Anaconda3\\envs\\tensorflow-sessions\\lib\\site-packages\\keras\\backend\\tensorflow_backend.py\u001b[0m in \u001b[0;36m_call\u001b[1;34m(self, inputs)\u001b[0m\n\u001b[0;32m   2673\u001b[0m             \u001b[0mfetched\u001b[0m \u001b[1;33m=\u001b[0m \u001b[0mself\u001b[0m\u001b[1;33m.\u001b[0m\u001b[0m_callable_fn\u001b[0m\u001b[1;33m(\u001b[0m\u001b[1;33m*\u001b[0m\u001b[0marray_vals\u001b[0m\u001b[1;33m,\u001b[0m \u001b[0mrun_metadata\u001b[0m\u001b[1;33m=\u001b[0m\u001b[0mself\u001b[0m\u001b[1;33m.\u001b[0m\u001b[0mrun_metadata\u001b[0m\u001b[1;33m)\u001b[0m\u001b[1;33m\u001b[0m\u001b[1;33m\u001b[0m\u001b[0m\n\u001b[0;32m   2674\u001b[0m         \u001b[1;32melse\u001b[0m\u001b[1;33m:\u001b[0m\u001b[1;33m\u001b[0m\u001b[1;33m\u001b[0m\u001b[0m\n\u001b[1;32m-> 2675\u001b[1;33m             \u001b[0mfetched\u001b[0m \u001b[1;33m=\u001b[0m \u001b[0mself\u001b[0m\u001b[1;33m.\u001b[0m\u001b[0m_callable_fn\u001b[0m\u001b[1;33m(\u001b[0m\u001b[1;33m*\u001b[0m\u001b[0marray_vals\u001b[0m\u001b[1;33m)\u001b[0m\u001b[1;33m\u001b[0m\u001b[1;33m\u001b[0m\u001b[0m\n\u001b[0m\u001b[0;32m   2676\u001b[0m         \u001b[1;32mreturn\u001b[0m \u001b[0mfetched\u001b[0m\u001b[1;33m[\u001b[0m\u001b[1;33m:\u001b[0m\u001b[0mlen\u001b[0m\u001b[1;33m(\u001b[0m\u001b[0mself\u001b[0m\u001b[1;33m.\u001b[0m\u001b[0moutputs\u001b[0m\u001b[1;33m)\u001b[0m\u001b[1;33m]\u001b[0m\u001b[1;33m\u001b[0m\u001b[1;33m\u001b[0m\u001b[0m\n\u001b[0;32m   2677\u001b[0m \u001b[1;33m\u001b[0m\u001b[0m\n",
      "\u001b[1;32m~\\Anaconda3\\envs\\tensorflow-sessions\\lib\\site-packages\\tensorflow\\python\\client\\session.py\u001b[0m in \u001b[0;36m__call__\u001b[1;34m(self, *args, **kwargs)\u001b[0m\n\u001b[0;32m   1437\u001b[0m           ret = tf_session.TF_SessionRunCallable(\n\u001b[0;32m   1438\u001b[0m               \u001b[0mself\u001b[0m\u001b[1;33m.\u001b[0m\u001b[0m_session\u001b[0m\u001b[1;33m.\u001b[0m\u001b[0m_session\u001b[0m\u001b[1;33m,\u001b[0m \u001b[0mself\u001b[0m\u001b[1;33m.\u001b[0m\u001b[0m_handle\u001b[0m\u001b[1;33m,\u001b[0m \u001b[0margs\u001b[0m\u001b[1;33m,\u001b[0m \u001b[0mstatus\u001b[0m\u001b[1;33m,\u001b[0m\u001b[1;33m\u001b[0m\u001b[1;33m\u001b[0m\u001b[0m\n\u001b[1;32m-> 1439\u001b[1;33m               run_metadata_ptr)\n\u001b[0m\u001b[0;32m   1440\u001b[0m         \u001b[1;32mif\u001b[0m \u001b[0mrun_metadata\u001b[0m\u001b[1;33m:\u001b[0m\u001b[1;33m\u001b[0m\u001b[1;33m\u001b[0m\u001b[0m\n\u001b[0;32m   1441\u001b[0m           \u001b[0mproto_data\u001b[0m \u001b[1;33m=\u001b[0m \u001b[0mtf_session\u001b[0m\u001b[1;33m.\u001b[0m\u001b[0mTF_GetBuffer\u001b[0m\u001b[1;33m(\u001b[0m\u001b[0mrun_metadata_ptr\u001b[0m\u001b[1;33m)\u001b[0m\u001b[1;33m\u001b[0m\u001b[1;33m\u001b[0m\u001b[0m\n",
      "\u001b[1;31mKeyboardInterrupt\u001b[0m: "
     ]
    }
   ],
   "source": [
    "checkpointer = ModelCheckpoint(filepath='drving_gta_alexnet.hdf5', verbose=1, save_best_only=True)\n",
    "\n",
    "# tensorboard = TensorBoard(log_dir='./logs', histogram_freq=0, write_graph=True, write_images=False)\n",
    "NAME = 'drving_gta_alexnet_60x107_{}'.format(int(time.time()))\n",
    "tensorboard = TensorBoard(log_dir='logs/{}'.format(NAME))\n",
    "\n",
    "def lr_schedule(epoch):\n",
    "    \"\"\"Change the learning rate \"\"\"\n",
    "    lrate = 0.001\n",
    "    if epoch > 10:\n",
    "        lrate = 0.0005\n",
    "    if epoch > 50:\n",
    "        lrate = 0.0003\n",
    "    return lrate\n",
    "\n",
    "# tensorboard --logdir=logs/ --host localhost --port 8088\n",
    "\n",
    "History = alexnet.fit_generator(my_generator(X_train, y_train, BATCH_SIZE, True),\n",
    "                                  steps_per_epoch=N_TRAIN // BATCH_SIZE, \n",
    "                                  epochs=2,\n",
    "                                  validation_data=my_generator(X_val, y_val, BATCH_SIZE, False),\n",
    "                                  validation_steps=N_TEST // BATCH_SIZE,\n",
    "                                  verbose=1,\n",
    "                                  callbacks=[tensorboard, LearningRateScheduler(lr_schedule), checkpointer],\n",
    "                                  shuffle = 1)\n",
    "\n",
    "# # Saving\n",
    "# model.save('drving_gta_hand.h5')"
   ]
  },
  {
   "cell_type": "code",
   "execution_count": null,
   "metadata": {},
   "outputs": [],
   "source": []
  },
  {
   "cell_type": "code",
   "execution_count": null,
   "metadata": {},
   "outputs": [],
   "source": []
  }
 ],
 "metadata": {
  "kernelspec": {
   "display_name": "Python 3",
   "language": "python",
   "name": "python3"
  },
  "language_info": {
   "codemirror_mode": {
    "name": "ipython",
    "version": 3
   },
   "file_extension": ".py",
   "mimetype": "text/x-python",
   "name": "python",
   "nbconvert_exporter": "python",
   "pygments_lexer": "ipython3",
   "version": "3.6.7"
  }
 },
 "nbformat": 4,
 "nbformat_minor": 2
}
